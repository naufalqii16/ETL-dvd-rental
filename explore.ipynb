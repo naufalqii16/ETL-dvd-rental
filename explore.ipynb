{
 "cells": [
  {
   "cell_type": "markdown",
   "id": "32365a87",
   "metadata": {},
   "source": [
    "## Extract Dataset"
   ]
  },
  {
   "cell_type": "code",
   "execution_count": 93,
   "id": "3c53c97f",
   "metadata": {},
   "outputs": [],
   "source": [
    "import requests\n",
    "import pandas as pd\n",
    "import urllib.request, json\n",
    "import psycopg2\n",
    "from sqlalchemy import create_engine\n",
    "from tabulate import tabulate"
   ]
  },
  {
   "cell_type": "code",
   "execution_count": 94,
   "id": "94bde3c5",
   "metadata": {},
   "outputs": [],
   "source": [
    "city_url = 'https://raw.githubusercontent.com/rahilpacmann/case-data-wrangling-api/main/city.csv'\n",
    "country_url = 'https://raw.githubusercontent.com/rahilpacmann/case-data-wrangling-api/main/country.csv'\n",
    "requirements_table_url = 'https://rahilpacmann.github.io/case-data-wrangling-api/requirements_table.json'\n",
    "\n",
    "city_raw = pd.read_csv(city_url)\n",
    "country_raw = pd.read_csv(country_url)"
   ]
  },
  {
   "cell_type": "code",
   "execution_count": 95,
   "id": "eb0a0bc7",
   "metadata": {},
   "outputs": [
    {
     "data": {
      "text/plain": [
       "{'actor': [{'column_name': 'actor_id', 'data_type': 'int64'},\n",
       "  {'column_name': 'last_update', 'data_type': 'datetime64[ns]'},\n",
       "  {'column_name': 'first_name', 'data_type': 'object'},\n",
       "  {'column_name': 'last_name', 'data_type': 'object'}],\n",
       " 'store': [{'column_name': 'store_id', 'data_type': 'int64'},\n",
       "  {'column_name': 'manager_staff_id', 'data_type': 'int64'},\n",
       "  {'column_name': 'address_id', 'data_type': 'int64'},\n",
       "  {'column_name': 'last_update', 'data_type': 'datetime64[ns]'}],\n",
       " 'address': [{'column_name': 'last_update', 'data_type': 'datetime64[ns]'},\n",
       "  {'column_name': 'city_id', 'data_type': 'int64'},\n",
       "  {'column_name': 'address_id', 'data_type': 'int64'},\n",
       "  {'column_name': 'district', 'data_type': 'object'},\n",
       "  {'column_name': 'phone', 'data_type': 'object'},\n",
       "  {'column_name': 'postal_code', 'data_type': 'object'},\n",
       "  {'column_name': 'address', 'data_type': 'object'},\n",
       "  {'column_name': 'address2', 'data_type': 'object'}],\n",
       " 'category': [{'column_name': 'category_id', 'data_type': 'int64'},\n",
       "  {'column_name': 'last_update', 'data_type': 'datetime64[ns]'},\n",
       "  {'column_name': 'name', 'data_type': 'object'}],\n",
       " 'city': [{'column_name': 'city_id', 'data_type': 'int64'},\n",
       "  {'column_name': 'country_id', 'data_type': 'int64'},\n",
       "  {'column_name': 'last_update', 'data_type': 'datetime64[ns]'},\n",
       "  {'column_name': 'city', 'data_type': 'object'}],\n",
       " 'country': [{'column_name': 'country_id', 'data_type': 'int64'},\n",
       "  {'column_name': 'last_update', 'data_type': 'datetime64[ns]'},\n",
       "  {'column_name': 'country', 'data_type': 'object'}],\n",
       " 'customer': [{'column_name': 'active', 'data_type': 'int64'},\n",
       "  {'column_name': 'store_id', 'data_type': 'int64'},\n",
       "  {'column_name': 'create_date', 'data_type': 'datetime64[ns]'},\n",
       "  {'column_name': 'last_update', 'data_type': 'datetime64[ns]'},\n",
       "  {'column_name': 'customer_id', 'data_type': 'int64'},\n",
       "  {'column_name': 'address_id', 'data_type': 'int64'},\n",
       "  {'column_name': 'activebool', 'data_type': 'bool'},\n",
       "  {'column_name': 'first_name', 'data_type': 'object'},\n",
       "  {'column_name': 'last_name', 'data_type': 'object'},\n",
       "  {'column_name': 'email', 'data_type': 'object'}],\n",
       " 'film_actor': [{'column_name': 'actor_id', 'data_type': 'int64'},\n",
       "  {'column_name': 'film_id', 'data_type': 'int64'},\n",
       "  {'column_name': 'last_update', 'data_type': 'datetime64[ns]'}],\n",
       " 'film_category': [{'column_name': 'film_id', 'data_type': 'int64'},\n",
       "  {'column_name': 'category_id', 'data_type': 'int64'},\n",
       "  {'column_name': 'last_update', 'data_type': 'datetime64[ns]'}],\n",
       " 'inventory': [{'column_name': 'inventory_id', 'data_type': 'int64'},\n",
       "  {'column_name': 'film_id', 'data_type': 'int64'},\n",
       "  {'column_name': 'store_id', 'data_type': 'int64'},\n",
       "  {'column_name': 'last_update', 'data_type': 'datetime64[ns]'}],\n",
       " 'language': [{'column_name': 'language_id', 'data_type': 'int64'},\n",
       "  {'column_name': 'last_update', 'data_type': 'datetime64[ns]'},\n",
       "  {'column_name': 'name', 'data_type': 'object'}],\n",
       " 'rental': [{'column_name': 'rental_id', 'data_type': 'int64'},\n",
       "  {'column_name': 'rental_date', 'data_type': 'datetime64[ns]'},\n",
       "  {'column_name': 'inventory_id', 'data_type': 'int64'},\n",
       "  {'column_name': 'customer_id', 'data_type': 'int64'},\n",
       "  {'column_name': 'return_date', 'data_type': 'datetime64[ns]'},\n",
       "  {'column_name': 'staff_id', 'data_type': 'int64'},\n",
       "  {'column_name': 'last_update', 'data_type': 'datetime64[ns]'}],\n",
       " 'staff': [{'column_name': 'picture', 'data_type': 'object'},\n",
       "  {'column_name': 'address_id', 'data_type': 'int64'},\n",
       "  {'column_name': 'store_id', 'data_type': 'int64'},\n",
       "  {'column_name': 'active', 'data_type': 'bool'},\n",
       "  {'column_name': 'last_update', 'data_type': 'datetime64[ns]'},\n",
       "  {'column_name': 'staff_id', 'data_type': 'int64'},\n",
       "  {'column_name': 'first_name', 'data_type': 'object'},\n",
       "  {'column_name': 'last_name', 'data_type': 'object'},\n",
       "  {'column_name': 'password', 'data_type': 'object'},\n",
       "  {'column_name': 'email', 'data_type': 'object'},\n",
       "  {'column_name': 'username', 'data_type': 'object'}],\n",
       " 'payment': [{'column_name': 'payment_id', 'data_type': 'int64'},\n",
       "  {'column_name': 'customer_id', 'data_type': 'int64'},\n",
       "  {'column_name': 'staff_id', 'data_type': 'int64'},\n",
       "  {'column_name': 'rental_id', 'data_type': 'int64'},\n",
       "  {'column_name': 'amount', 'data_type': 'float64'},\n",
       "  {'column_name': 'payment_date', 'data_type': 'datetime64[ns]'}],\n",
       " 'film': [{'column_name': 'fulltext', 'data_type': 'object'},\n",
       "  {'column_name': 'rating', 'data_type': 'object'},\n",
       "  {'column_name': 'last_update', 'data_type': 'datetime64[ns]'},\n",
       "  {'column_name': 'film_id', 'data_type': 'int64'},\n",
       "  {'column_name': 'release_year', 'data_type': 'int64'},\n",
       "  {'column_name': 'language_id', 'data_type': 'int64'},\n",
       "  {'column_name': 'rental_duration', 'data_type': 'int64'},\n",
       "  {'column_name': 'rental_rate', 'data_type': 'float64'},\n",
       "  {'column_name': 'length', 'data_type': 'int64'},\n",
       "  {'column_name': 'replacement_cost', 'data_type': 'float64'},\n",
       "  {'column_name': 'title', 'data_type': 'object'},\n",
       "  {'column_name': 'description', 'data_type': 'object'},\n",
       "  {'column_name': 'special_features', 'data_type': 'object'}]}"
      ]
     },
     "execution_count": 95,
     "metadata": {},
     "output_type": "execute_result"
    }
   ],
   "source": [
    "with urllib.request.urlopen(requirements_table_url) as url:\n",
    "    requirements_table = json.load(url)\n",
    "\n",
    "requirements_table"
   ]
  },
  {
   "cell_type": "code",
   "execution_count": 96,
   "id": "0ed00a05",
   "metadata": {},
   "outputs": [],
   "source": [
    "dbname = \"dvdrental\"\n",
    "user = \"postgres\"\n",
    "password = \"password123\"\n",
    "host = \"localhost\"\n",
    "port = \"5439\"\n",
    "\n",
    "engine_str = f\"postgresql://{user}:{password}@{host}:{port}/{dbname}\"\n",
    "engine = create_engine(engine_str)"
   ]
  },
  {
   "cell_type": "code",
   "execution_count": 97,
   "id": "a3dd4b9c",
   "metadata": {},
   "outputs": [],
   "source": [
    "def get_table_data(table_name, engine):\n",
    "    try:\n",
    "        query = f\"SELECT * FROM {table_name}\"\n",
    "        df = pd.read_sql(query, engine)\n",
    "\n",
    "        return df\n",
    "    except Exception as e:\n",
    "        print(f\"Error: {e}\")\n",
    "\n",
    "        return pd.DataFrame()"
   ]
  },
  {
   "cell_type": "code",
   "execution_count": 98,
   "id": "2d0b34f6",
   "metadata": {},
   "outputs": [],
   "source": [
    "actor_df = get_table_data('actor', engine)\n",
    "store_df = get_table_data('store', engine)\n",
    "address_df = get_table_data('address', engine)\n",
    "category_df = get_table_data('category', engine)\n",
    "customer_df = get_table_data('customer', engine)\n",
    "film_actor_df = get_table_data('film_actor', engine)\n",
    "film_category_df = get_table_data('film_category', engine)\n",
    "inventory_df = get_table_data('inventory',engine)\n",
    "language_df = get_table_data('language',engine)\n",
    "rental_df = get_table_data('rental',engine)\n",
    "staff_df = get_table_data('staff',engine)\n",
    "payment_df = get_table_data('payment',engine)\n",
    "film_df = get_table_data('film',engine)"
   ]
  },
  {
   "cell_type": "code",
   "execution_count": 99,
   "id": "0b1a2ce4",
   "metadata": {},
   "outputs": [],
   "source": [
    "table_dict = {\n",
    "    'actor': actor_df,\n",
    "    'store': store_df,\n",
    "    'address': address_df,\n",
    "    'category': category_df,\n",
    "    'customer': customer_df,\n",
    "    'film_actor': film_actor_df,\n",
    "    'film_category': film_category_df,\n",
    "    'inventory': inventory_df,\n",
    "    'language': language_df,\n",
    "    'rental': rental_df,\n",
    "    'staff': staff_df,\n",
    "    'payment': payment_df,\n",
    "    'film': film_df,\n",
    "    'city': city_raw,\n",
    "    'country': country_raw\n",
    "}"
   ]
  },
  {
   "cell_type": "markdown",
   "id": "9c4ff1f4",
   "metadata": {},
   "source": [
    "## Read Data"
   ]
  },
  {
   "cell_type": "code",
   "execution_count": 100,
   "id": "06c7fbc0",
   "metadata": {},
   "outputs": [
    {
     "data": {
      "text/html": [
       "<div>\n",
       "<style scoped>\n",
       "    .dataframe tbody tr th:only-of-type {\n",
       "        vertical-align: middle;\n",
       "    }\n",
       "\n",
       "    .dataframe tbody tr th {\n",
       "        vertical-align: top;\n",
       "    }\n",
       "\n",
       "    .dataframe thead th {\n",
       "        text-align: right;\n",
       "    }\n",
       "</style>\n",
       "<table border=\"1\" class=\"dataframe\">\n",
       "  <thead>\n",
       "    <tr style=\"text-align: right;\">\n",
       "      <th></th>\n",
       "      <th>city_id</th>\n",
       "      <th>city</th>\n",
       "      <th>country</th>\n",
       "    </tr>\n",
       "  </thead>\n",
       "  <tbody>\n",
       "    <tr>\n",
       "      <th>0</th>\n",
       "      <td>1</td>\n",
       "      <td>A Corua (La Corua)</td>\n",
       "      <td>Spain</td>\n",
       "    </tr>\n",
       "    <tr>\n",
       "      <th>1</th>\n",
       "      <td>2</td>\n",
       "      <td>Abha</td>\n",
       "      <td>Saudi Arabia</td>\n",
       "    </tr>\n",
       "    <tr>\n",
       "      <th>2</th>\n",
       "      <td>3</td>\n",
       "      <td>Abu Dhabi</td>\n",
       "      <td>United Arab Emirates</td>\n",
       "    </tr>\n",
       "    <tr>\n",
       "      <th>3</th>\n",
       "      <td>4</td>\n",
       "      <td>Acua</td>\n",
       "      <td>Mexico</td>\n",
       "    </tr>\n",
       "    <tr>\n",
       "      <th>4</th>\n",
       "      <td>5</td>\n",
       "      <td>Adana</td>\n",
       "      <td>Turkey</td>\n",
       "    </tr>\n",
       "  </tbody>\n",
       "</table>\n",
       "</div>"
      ],
      "text/plain": [
       "   city_id                city               country\n",
       "0        1  A Corua (La Corua)                 Spain\n",
       "1        2                Abha          Saudi Arabia\n",
       "2        3           Abu Dhabi  United Arab Emirates\n",
       "3        4                Acua                Mexico\n",
       "4        5               Adana                Turkey"
      ]
     },
     "execution_count": 100,
     "metadata": {},
     "output_type": "execute_result"
    }
   ],
   "source": [
    "city_raw.head()"
   ]
  },
  {
   "cell_type": "code",
   "execution_count": 101,
   "id": "915039fc",
   "metadata": {},
   "outputs": [
    {
     "data": {
      "text/html": [
       "<div>\n",
       "<style scoped>\n",
       "    .dataframe tbody tr th:only-of-type {\n",
       "        vertical-align: middle;\n",
       "    }\n",
       "\n",
       "    .dataframe tbody tr th {\n",
       "        vertical-align: top;\n",
       "    }\n",
       "\n",
       "    .dataframe thead th {\n",
       "        text-align: right;\n",
       "    }\n",
       "</style>\n",
       "<table border=\"1\" class=\"dataframe\">\n",
       "  <thead>\n",
       "    <tr style=\"text-align: right;\">\n",
       "      <th></th>\n",
       "      <th>country</th>\n",
       "      <th>last_update</th>\n",
       "    </tr>\n",
       "  </thead>\n",
       "  <tbody>\n",
       "    <tr>\n",
       "      <th>0</th>\n",
       "      <td>Afghanistan</td>\n",
       "      <td>2006-02-15 09:44:00</td>\n",
       "    </tr>\n",
       "    <tr>\n",
       "      <th>1</th>\n",
       "      <td>Algeria</td>\n",
       "      <td>2006-02-15 09:44:00</td>\n",
       "    </tr>\n",
       "    <tr>\n",
       "      <th>2</th>\n",
       "      <td>American Samoa</td>\n",
       "      <td>2006-02-15 09:44:00</td>\n",
       "    </tr>\n",
       "    <tr>\n",
       "      <th>3</th>\n",
       "      <td>Angola</td>\n",
       "      <td>2006-02-15 09:44:00</td>\n",
       "    </tr>\n",
       "    <tr>\n",
       "      <th>4</th>\n",
       "      <td>Anguilla</td>\n",
       "      <td>2006-02-15 09:44:00</td>\n",
       "    </tr>\n",
       "  </tbody>\n",
       "</table>\n",
       "</div>"
      ],
      "text/plain": [
       "          country          last_update\n",
       "0     Afghanistan  2006-02-15 09:44:00\n",
       "1         Algeria  2006-02-15 09:44:00\n",
       "2  American Samoa  2006-02-15 09:44:00\n",
       "3          Angola  2006-02-15 09:44:00\n",
       "4        Anguilla  2006-02-15 09:44:00"
      ]
     },
     "execution_count": 101,
     "metadata": {},
     "output_type": "execute_result"
    }
   ],
   "source": [
    "country_raw.head()"
   ]
  },
  {
   "cell_type": "code",
   "execution_count": 102,
   "id": "51816091",
   "metadata": {},
   "outputs": [
    {
     "data": {
      "text/html": [
       "<div>\n",
       "<style scoped>\n",
       "    .dataframe tbody tr th:only-of-type {\n",
       "        vertical-align: middle;\n",
       "    }\n",
       "\n",
       "    .dataframe tbody tr th {\n",
       "        vertical-align: top;\n",
       "    }\n",
       "\n",
       "    .dataframe thead th {\n",
       "        text-align: right;\n",
       "    }\n",
       "</style>\n",
       "<table border=\"1\" class=\"dataframe\">\n",
       "  <thead>\n",
       "    <tr style=\"text-align: right;\">\n",
       "      <th></th>\n",
       "      <th>actor_id</th>\n",
       "      <th>first_name</th>\n",
       "      <th>last_name</th>\n",
       "      <th>last_update</th>\n",
       "    </tr>\n",
       "  </thead>\n",
       "  <tbody>\n",
       "    <tr>\n",
       "      <th>0</th>\n",
       "      <td>1</td>\n",
       "      <td>Penelope</td>\n",
       "      <td>Guiness</td>\n",
       "      <td>2013-05-26 14:47:57.620</td>\n",
       "    </tr>\n",
       "    <tr>\n",
       "      <th>1</th>\n",
       "      <td>2</td>\n",
       "      <td>Nick</td>\n",
       "      <td>Wahlberg</td>\n",
       "      <td>2013-05-26 14:47:57.620</td>\n",
       "    </tr>\n",
       "    <tr>\n",
       "      <th>2</th>\n",
       "      <td>3</td>\n",
       "      <td>Ed</td>\n",
       "      <td>Chase</td>\n",
       "      <td>2013-05-26 14:47:57.620</td>\n",
       "    </tr>\n",
       "    <tr>\n",
       "      <th>3</th>\n",
       "      <td>4</td>\n",
       "      <td>Jennifer</td>\n",
       "      <td>Davis</td>\n",
       "      <td>2013-05-26 14:47:57.620</td>\n",
       "    </tr>\n",
       "    <tr>\n",
       "      <th>4</th>\n",
       "      <td>5</td>\n",
       "      <td>Johnny</td>\n",
       "      <td>Lollobrigida</td>\n",
       "      <td>2013-05-26 14:47:57.620</td>\n",
       "    </tr>\n",
       "  </tbody>\n",
       "</table>\n",
       "</div>"
      ],
      "text/plain": [
       "   actor_id first_name     last_name             last_update\n",
       "0         1   Penelope       Guiness 2013-05-26 14:47:57.620\n",
       "1         2       Nick      Wahlberg 2013-05-26 14:47:57.620\n",
       "2         3         Ed         Chase 2013-05-26 14:47:57.620\n",
       "3         4   Jennifer         Davis 2013-05-26 14:47:57.620\n",
       "4         5     Johnny  Lollobrigida 2013-05-26 14:47:57.620"
      ]
     },
     "execution_count": 102,
     "metadata": {},
     "output_type": "execute_result"
    }
   ],
   "source": [
    "actor_df.head()"
   ]
  },
  {
   "cell_type": "code",
   "execution_count": 103,
   "id": "8d21e87a",
   "metadata": {},
   "outputs": [
    {
     "name": "stdout",
     "output_type": "stream",
     "text": [
      "15\n",
      "15\n"
     ]
    }
   ],
   "source": [
    "print(len(requirements_table.keys()))\n",
    "print(len(table_dict))"
   ]
  },
  {
   "cell_type": "markdown",
   "id": "341e5833",
   "metadata": {},
   "source": [
    "## Data Validation"
   ]
  },
  {
   "cell_type": "code",
   "execution_count": 104,
   "id": "2c164d61",
   "metadata": {},
   "outputs": [],
   "source": [
    "\n",
    "def check_table_requirements(actual_table, requirement_table):\n",
    "    # column name checker\n",
    "    actual_table_name = [table for table in actual_table]\n",
    "    requirement_table_name = list(requirement_table.keys())\n",
    "    table_checking = []\n",
    "\n",
    "    for table_name in actual_table_name:\n",
    "        if table_name in requirement_table_name:\n",
    "            table_checking.append([table_name, 'v'])\n",
    "        else:\n",
    "            table_checking.append([table_name, 'x'])\n",
    "\n",
    "    table_headers = ['table_name', 'is_exist']\n",
    "    table = tabulate(table_checking, headers=table_headers, tablefmt='grid')\n",
    "    print('=> STEP 1: Check Table')\n",
    "    print(table)"
   ]
  },
  {
   "cell_type": "code",
   "execution_count": 105,
   "id": "d35428dc",
   "metadata": {},
   "outputs": [
    {
     "name": "stdout",
     "output_type": "stream",
     "text": [
      "=> STEP 1: Check Table\n",
      "+---------------+------------+\n",
      "| table_name    | is_exist   |\n",
      "+===============+============+\n",
      "| actor         | v          |\n",
      "+---------------+------------+\n",
      "| store         | v          |\n",
      "+---------------+------------+\n",
      "| address       | v          |\n",
      "+---------------+------------+\n",
      "| category      | v          |\n",
      "+---------------+------------+\n",
      "| customer      | v          |\n",
      "+---------------+------------+\n",
      "| film_actor    | v          |\n",
      "+---------------+------------+\n",
      "| film_category | v          |\n",
      "+---------------+------------+\n",
      "| inventory     | v          |\n",
      "+---------------+------------+\n",
      "| language      | v          |\n",
      "+---------------+------------+\n",
      "| rental        | v          |\n",
      "+---------------+------------+\n",
      "| staff         | v          |\n",
      "+---------------+------------+\n",
      "| payment       | v          |\n",
      "+---------------+------------+\n",
      "| film          | v          |\n",
      "+---------------+------------+\n",
      "| city          | v          |\n",
      "+---------------+------------+\n",
      "| country       | v          |\n",
      "+---------------+------------+\n"
     ]
    }
   ],
   "source": [
    "check_table_requirements(actual_table=table_dict, requirement_table=requirements_table)"
   ]
  },
  {
   "cell_type": "code",
   "execution_count": 106,
   "id": "d1cb8176",
   "metadata": {},
   "outputs": [],
   "source": [
    "def check_shape(actual_table):\n",
    "\n",
    "    table_shape = []\n",
    "\n",
    "    for table, data in actual_table.items():\n",
    "        table_shape.append([table, data.shape[0], data.shape[1]])\n",
    "\n",
    "    table_headers = ['table_name', 'Number of rows', 'Number of Columns']\n",
    "    table = tabulate(table_shape, headers=table_headers, tablefmt='grid')\n",
    "    print('=> STEP 2: Check Data Shape')\n",
    "    print(table)"
   ]
  },
  {
   "cell_type": "code",
   "execution_count": 107,
   "id": "29eb782e",
   "metadata": {},
   "outputs": [
    {
     "name": "stdout",
     "output_type": "stream",
     "text": [
      "=> STEP 2: Check Data Shape\n",
      "+---------------+------------------+---------------------+\n",
      "| table_name    |   Number of rows |   Number of Columns |\n",
      "+===============+==================+=====================+\n",
      "| actor         |              200 |                   4 |\n",
      "+---------------+------------------+---------------------+\n",
      "| store         |                2 |                   4 |\n",
      "+---------------+------------------+---------------------+\n",
      "| address       |              603 |                   8 |\n",
      "+---------------+------------------+---------------------+\n",
      "| category      |               16 |                   3 |\n",
      "+---------------+------------------+---------------------+\n",
      "| customer      |              599 |                  10 |\n",
      "+---------------+------------------+---------------------+\n",
      "| film_actor    |             5462 |                   3 |\n",
      "+---------------+------------------+---------------------+\n",
      "| film_category |             1000 |                   3 |\n",
      "+---------------+------------------+---------------------+\n",
      "| inventory     |             4581 |                   4 |\n",
      "+---------------+------------------+---------------------+\n",
      "| language      |                6 |                   3 |\n",
      "+---------------+------------------+---------------------+\n",
      "| rental        |            16044 |                   7 |\n",
      "+---------------+------------------+---------------------+\n",
      "| staff         |                2 |                  11 |\n",
      "+---------------+------------------+---------------------+\n",
      "| payment       |            14596 |                   6 |\n",
      "+---------------+------------------+---------------------+\n",
      "| film          |             1000 |                  13 |\n",
      "+---------------+------------------+---------------------+\n",
      "| city          |              677 |                   3 |\n",
      "+---------------+------------------+---------------------+\n",
      "| country       |              109 |                   2 |\n",
      "+---------------+------------------+---------------------+\n"
     ]
    }
   ],
   "source": [
    "check_shape(actual_table=table_dict)"
   ]
  },
  {
   "cell_type": "code",
   "execution_count": 108,
   "id": "ea0761df",
   "metadata": {},
   "outputs": [
    {
     "name": "stdout",
     "output_type": "stream",
     "text": [
      "<class 'pandas.core.frame.DataFrame'>\n",
      "RangeIndex: 200 entries, 0 to 199\n",
      "Data columns (total 4 columns):\n",
      " #   Column       Non-Null Count  Dtype         \n",
      "---  ------       --------------  -----         \n",
      " 0   actor_id     200 non-null    int64         \n",
      " 1   first_name   200 non-null    object        \n",
      " 2   last_name    200 non-null    object        \n",
      " 3   last_update  200 non-null    datetime64[ns]\n",
      "dtypes: datetime64[ns](1), int64(1), object(2)\n",
      "memory usage: 6.4+ KB\n"
     ]
    }
   ],
   "source": [
    "table_dict['actor'].info()"
   ]
  },
  {
   "cell_type": "code",
   "execution_count": 109,
   "id": "2e558aae",
   "metadata": {},
   "outputs": [
    {
     "name": "stdout",
     "output_type": "stream",
     "text": [
      "{2, 3, 4, 5}\n"
     ]
    }
   ],
   "source": [
    "a = [\"1\", 2, 3, 4, 5]\n",
    "b = ['j', 2, 3, 4, 5]\n",
    "print(set(a) & set(b))"
   ]
  },
  {
   "cell_type": "code",
   "execution_count": 110,
   "id": "a0292894",
   "metadata": {},
   "outputs": [
    {
     "name": "stdout",
     "output_type": "stream",
     "text": [
      "Index(['country', 'last_update'], dtype='object')\n",
      "['country_id', 'last_update', 'country']\n"
     ]
    }
   ],
   "source": [
    "columns_actual = table_dict['country'].columns\n",
    "columns_req = [col['column_name'] for col in requirements_table['country']]\n",
    "\n",
    "print(columns_actual)\n",
    "print(columns_req)"
   ]
  },
  {
   "cell_type": "code",
   "execution_count": 111,
   "id": "c6f0a8e7",
   "metadata": {},
   "outputs": [],
   "source": [
    "def check_columns(actual_table, req_table):\n",
    "    print('=> STEP 3: Check Columns')\n",
    "    for key in req_table:\n",
    "        column_names = []\n",
    "        columns_req = [col['column_name'] for col in req_table[key]]\n",
    "        columns_actual = actual_table[key].columns\n",
    "\n",
    "        for column in columns_actual:\n",
    "            if column in columns_req:\n",
    "                column_names.append([column, 'v', 'v'])\n",
    "            else:\n",
    "                column_names.append([column, 'v', 'x'])\n",
    "\n",
    "        for column in columns_req:\n",
    "            if column not in columns_actual:\n",
    "                column_names.append([column, 'x', 'v'])\n",
    "\n",
    "        table_headers = ['column_name', 'in_actual_table', 'in_requirements_table']\n",
    "        table = tabulate(column_names, headers=table_headers, tablefmt='grid') \n",
    "        print(f'Table: {key}')\n",
    "        print(f'{table}\\n')\n"
   ]
  },
  {
   "cell_type": "code",
   "execution_count": 112,
   "id": "bfe7de96",
   "metadata": {},
   "outputs": [
    {
     "name": "stdout",
     "output_type": "stream",
     "text": [
      "=> STEP 3: Check Columns\n",
      "Table: actor\n",
      "+---------------+-------------------+-------------------------+\n",
      "| column_name   | in_actual_table   | in_requirements_table   |\n",
      "+===============+===================+=========================+\n",
      "| actor_id      | v                 | v                       |\n",
      "+---------------+-------------------+-------------------------+\n",
      "| first_name    | v                 | v                       |\n",
      "+---------------+-------------------+-------------------------+\n",
      "| last_name     | v                 | v                       |\n",
      "+---------------+-------------------+-------------------------+\n",
      "| last_update   | v                 | v                       |\n",
      "+---------------+-------------------+-------------------------+\n",
      "\n",
      "Table: store\n",
      "+------------------+-------------------+-------------------------+\n",
      "| column_name      | in_actual_table   | in_requirements_table   |\n",
      "+==================+===================+=========================+\n",
      "| store_id         | v                 | v                       |\n",
      "+------------------+-------------------+-------------------------+\n",
      "| manager_staff_id | v                 | v                       |\n",
      "+------------------+-------------------+-------------------------+\n",
      "| address_id       | v                 | v                       |\n",
      "+------------------+-------------------+-------------------------+\n",
      "| last_update      | v                 | v                       |\n",
      "+------------------+-------------------+-------------------------+\n",
      "\n",
      "Table: address\n",
      "+---------------+-------------------+-------------------------+\n",
      "| column_name   | in_actual_table   | in_requirements_table   |\n",
      "+===============+===================+=========================+\n",
      "| address_id    | v                 | v                       |\n",
      "+---------------+-------------------+-------------------------+\n",
      "| address       | v                 | v                       |\n",
      "+---------------+-------------------+-------------------------+\n",
      "| address2      | v                 | v                       |\n",
      "+---------------+-------------------+-------------------------+\n",
      "| district      | v                 | v                       |\n",
      "+---------------+-------------------+-------------------------+\n",
      "| city_id       | v                 | v                       |\n",
      "+---------------+-------------------+-------------------------+\n",
      "| postal_code   | v                 | v                       |\n",
      "+---------------+-------------------+-------------------------+\n",
      "| phone         | v                 | v                       |\n",
      "+---------------+-------------------+-------------------------+\n",
      "| last_update   | v                 | v                       |\n",
      "+---------------+-------------------+-------------------------+\n",
      "\n",
      "Table: category\n",
      "+---------------+-------------------+-------------------------+\n",
      "| column_name   | in_actual_table   | in_requirements_table   |\n",
      "+===============+===================+=========================+\n",
      "| category_id   | v                 | v                       |\n",
      "+---------------+-------------------+-------------------------+\n",
      "| name          | v                 | v                       |\n",
      "+---------------+-------------------+-------------------------+\n",
      "| last_update   | v                 | v                       |\n",
      "+---------------+-------------------+-------------------------+\n",
      "\n",
      "Table: city\n",
      "+---------------+-------------------+-------------------------+\n",
      "| column_name   | in_actual_table   | in_requirements_table   |\n",
      "+===============+===================+=========================+\n",
      "| city_id       | v                 | v                       |\n",
      "+---------------+-------------------+-------------------------+\n",
      "| city          | v                 | v                       |\n",
      "+---------------+-------------------+-------------------------+\n",
      "| country       | v                 | x                       |\n",
      "+---------------+-------------------+-------------------------+\n",
      "| country_id    | x                 | v                       |\n",
      "+---------------+-------------------+-------------------------+\n",
      "| last_update   | x                 | v                       |\n",
      "+---------------+-------------------+-------------------------+\n",
      "\n",
      "Table: country\n",
      "+---------------+-------------------+-------------------------+\n",
      "| column_name   | in_actual_table   | in_requirements_table   |\n",
      "+===============+===================+=========================+\n",
      "| country       | v                 | v                       |\n",
      "+---------------+-------------------+-------------------------+\n",
      "| last_update   | v                 | v                       |\n",
      "+---------------+-------------------+-------------------------+\n",
      "| country_id    | x                 | v                       |\n",
      "+---------------+-------------------+-------------------------+\n",
      "\n",
      "Table: customer\n",
      "+---------------+-------------------+-------------------------+\n",
      "| column_name   | in_actual_table   | in_requirements_table   |\n",
      "+===============+===================+=========================+\n",
      "| customer_id   | v                 | v                       |\n",
      "+---------------+-------------------+-------------------------+\n",
      "| store_id      | v                 | v                       |\n",
      "+---------------+-------------------+-------------------------+\n",
      "| first_name    | v                 | v                       |\n",
      "+---------------+-------------------+-------------------------+\n",
      "| last_name     | v                 | v                       |\n",
      "+---------------+-------------------+-------------------------+\n",
      "| email         | v                 | v                       |\n",
      "+---------------+-------------------+-------------------------+\n",
      "| address_id    | v                 | v                       |\n",
      "+---------------+-------------------+-------------------------+\n",
      "| activebool    | v                 | v                       |\n",
      "+---------------+-------------------+-------------------------+\n",
      "| create_date   | v                 | v                       |\n",
      "+---------------+-------------------+-------------------------+\n",
      "| last_update   | v                 | v                       |\n",
      "+---------------+-------------------+-------------------------+\n",
      "| active        | v                 | v                       |\n",
      "+---------------+-------------------+-------------------------+\n",
      "\n",
      "Table: film_actor\n",
      "+---------------+-------------------+-------------------------+\n",
      "| column_name   | in_actual_table   | in_requirements_table   |\n",
      "+===============+===================+=========================+\n",
      "| actor_id      | v                 | v                       |\n",
      "+---------------+-------------------+-------------------------+\n",
      "| film_id       | v                 | v                       |\n",
      "+---------------+-------------------+-------------------------+\n",
      "| last_update   | v                 | v                       |\n",
      "+---------------+-------------------+-------------------------+\n",
      "\n",
      "Table: film_category\n",
      "+---------------+-------------------+-------------------------+\n",
      "| column_name   | in_actual_table   | in_requirements_table   |\n",
      "+===============+===================+=========================+\n",
      "| film_id       | v                 | v                       |\n",
      "+---------------+-------------------+-------------------------+\n",
      "| category_id   | v                 | v                       |\n",
      "+---------------+-------------------+-------------------------+\n",
      "| last_update   | v                 | v                       |\n",
      "+---------------+-------------------+-------------------------+\n",
      "\n",
      "Table: inventory\n",
      "+---------------+-------------------+-------------------------+\n",
      "| column_name   | in_actual_table   | in_requirements_table   |\n",
      "+===============+===================+=========================+\n",
      "| inventory_id  | v                 | v                       |\n",
      "+---------------+-------------------+-------------------------+\n",
      "| film_id       | v                 | v                       |\n",
      "+---------------+-------------------+-------------------------+\n",
      "| store_id      | v                 | v                       |\n",
      "+---------------+-------------------+-------------------------+\n",
      "| last_update   | v                 | v                       |\n",
      "+---------------+-------------------+-------------------------+\n",
      "\n",
      "Table: language\n",
      "+---------------+-------------------+-------------------------+\n",
      "| column_name   | in_actual_table   | in_requirements_table   |\n",
      "+===============+===================+=========================+\n",
      "| language_id   | v                 | v                       |\n",
      "+---------------+-------------------+-------------------------+\n",
      "| name          | v                 | v                       |\n",
      "+---------------+-------------------+-------------------------+\n",
      "| last_update   | v                 | v                       |\n",
      "+---------------+-------------------+-------------------------+\n",
      "\n",
      "Table: rental\n",
      "+---------------+-------------------+-------------------------+\n",
      "| column_name   | in_actual_table   | in_requirements_table   |\n",
      "+===============+===================+=========================+\n",
      "| rental_id     | v                 | v                       |\n",
      "+---------------+-------------------+-------------------------+\n",
      "| rental_date   | v                 | v                       |\n",
      "+---------------+-------------------+-------------------------+\n",
      "| inventory_id  | v                 | v                       |\n",
      "+---------------+-------------------+-------------------------+\n",
      "| customer_id   | v                 | v                       |\n",
      "+---------------+-------------------+-------------------------+\n",
      "| return_date   | v                 | v                       |\n",
      "+---------------+-------------------+-------------------------+\n",
      "| staff_id      | v                 | v                       |\n",
      "+---------------+-------------------+-------------------------+\n",
      "| last_update   | v                 | v                       |\n",
      "+---------------+-------------------+-------------------------+\n",
      "\n",
      "Table: staff\n",
      "+---------------+-------------------+-------------------------+\n",
      "| column_name   | in_actual_table   | in_requirements_table   |\n",
      "+===============+===================+=========================+\n",
      "| staff_id      | v                 | v                       |\n",
      "+---------------+-------------------+-------------------------+\n",
      "| first_name    | v                 | v                       |\n",
      "+---------------+-------------------+-------------------------+\n",
      "| last_name     | v                 | v                       |\n",
      "+---------------+-------------------+-------------------------+\n",
      "| address_id    | v                 | v                       |\n",
      "+---------------+-------------------+-------------------------+\n",
      "| email         | v                 | v                       |\n",
      "+---------------+-------------------+-------------------------+\n",
      "| store_id      | v                 | v                       |\n",
      "+---------------+-------------------+-------------------------+\n",
      "| active        | v                 | v                       |\n",
      "+---------------+-------------------+-------------------------+\n",
      "| username      | v                 | v                       |\n",
      "+---------------+-------------------+-------------------------+\n",
      "| password      | v                 | v                       |\n",
      "+---------------+-------------------+-------------------------+\n",
      "| last_update   | v                 | v                       |\n",
      "+---------------+-------------------+-------------------------+\n",
      "| picture       | v                 | v                       |\n",
      "+---------------+-------------------+-------------------------+\n",
      "\n",
      "Table: payment\n",
      "+---------------+-------------------+-------------------------+\n",
      "| column_name   | in_actual_table   | in_requirements_table   |\n",
      "+===============+===================+=========================+\n",
      "| payment_id    | v                 | v                       |\n",
      "+---------------+-------------------+-------------------------+\n",
      "| customer_id   | v                 | v                       |\n",
      "+---------------+-------------------+-------------------------+\n",
      "| staff_id      | v                 | v                       |\n",
      "+---------------+-------------------+-------------------------+\n",
      "| rental_id     | v                 | v                       |\n",
      "+---------------+-------------------+-------------------------+\n",
      "| amount        | v                 | v                       |\n",
      "+---------------+-------------------+-------------------------+\n",
      "| payment_date  | v                 | v                       |\n",
      "+---------------+-------------------+-------------------------+\n",
      "\n",
      "Table: film\n",
      "+------------------+-------------------+-------------------------+\n",
      "| column_name      | in_actual_table   | in_requirements_table   |\n",
      "+==================+===================+=========================+\n",
      "| film_id          | v                 | v                       |\n",
      "+------------------+-------------------+-------------------------+\n",
      "| title            | v                 | v                       |\n",
      "+------------------+-------------------+-------------------------+\n",
      "| description      | v                 | v                       |\n",
      "+------------------+-------------------+-------------------------+\n",
      "| release_year     | v                 | v                       |\n",
      "+------------------+-------------------+-------------------------+\n",
      "| language_id      | v                 | v                       |\n",
      "+------------------+-------------------+-------------------------+\n",
      "| rental_duration  | v                 | v                       |\n",
      "+------------------+-------------------+-------------------------+\n",
      "| rental_rate      | v                 | v                       |\n",
      "+------------------+-------------------+-------------------------+\n",
      "| length           | v                 | v                       |\n",
      "+------------------+-------------------+-------------------------+\n",
      "| replacement_cost | v                 | v                       |\n",
      "+------------------+-------------------+-------------------------+\n",
      "| rating           | v                 | v                       |\n",
      "+------------------+-------------------+-------------------------+\n",
      "| last_update      | v                 | v                       |\n",
      "+------------------+-------------------+-------------------------+\n",
      "| special_features | v                 | v                       |\n",
      "+------------------+-------------------+-------------------------+\n",
      "| fulltext         | v                 | v                       |\n",
      "+------------------+-------------------+-------------------------+\n",
      "\n"
     ]
    }
   ],
   "source": [
    "check_columns(actual_table = table_dict, req_table = requirements_table)"
   ]
  },
  {
   "cell_type": "code",
   "execution_count": 113,
   "id": "c06c7a27",
   "metadata": {},
   "outputs": [
    {
     "data": {
      "text/plain": [
       "[dtype('int64'), dtype('O'), dtype('O'), dtype('<M8[ns]')]"
      ]
     },
     "execution_count": 113,
     "metadata": {},
     "output_type": "execute_result"
    }
   ],
   "source": [
    "columns_type_actual ={}\n",
    "columns_type_actual['actor'] = [table_dict['actor'][col].dtype for col in table_dict['actor'].columns]\n",
    "columns_type_actual['actor']"
   ]
  },
  {
   "cell_type": "code",
   "execution_count": 114,
   "id": "dfccc1a1",
   "metadata": {},
   "outputs": [
    {
     "data": {
      "text/plain": [
       "['int64', 'object', 'object', 'datetime64[ns]']"
      ]
     },
     "execution_count": 114,
     "metadata": {},
     "output_type": "execute_result"
    }
   ],
   "source": [
    "columns_type_actual ={}\n",
    "columns_type_actual['actor'] = [str(table_dict['actor'][col].dtype) for col in table_dict['actor'].columns]\n",
    "columns_type_actual['actor']"
   ]
  },
  {
   "cell_type": "code",
   "execution_count": 115,
   "id": "c03a9ff0",
   "metadata": {},
   "outputs": [
    {
     "data": {
      "text/plain": [
       "['int64', 'datetime64[ns]', 'object', 'object']"
      ]
     },
     "execution_count": 115,
     "metadata": {},
     "output_type": "execute_result"
    }
   ],
   "source": [
    "columns_type_req = [col['data_type'] for col in requirements_table['actor']]\n",
    "columns_type_req"
   ]
  },
  {
   "cell_type": "code",
   "execution_count": 116,
   "id": "1276c2ae",
   "metadata": {},
   "outputs": [
    {
     "data": {
      "text/plain": [
       "[{'column_name': 'actor_id', 'data_type': 'int64'},\n",
       " {'column_name': 'last_update', 'data_type': 'datetime64[ns]'},\n",
       " {'column_name': 'first_name', 'data_type': 'object'},\n",
       " {'column_name': 'last_name', 'data_type': 'object'}]"
      ]
     },
     "execution_count": 116,
     "metadata": {},
     "output_type": "execute_result"
    }
   ],
   "source": [
    "requirements_table['actor']"
   ]
  },
  {
   "cell_type": "code",
   "execution_count": 117,
   "id": "a9a59857",
   "metadata": {},
   "outputs": [],
   "source": [
    "def check_data_types(actual_table, requirements_table):\n",
    "    print(\"=> STEP 4: Check Data Types\")\n",
    "    summary_data = []\n",
    "\n",
    "    for table_name, df in actual_table.items():\n",
    "        if table_name in requirements_table:\n",
    "            for column_info in requirements_table[table_name]:\n",
    "                column_name = column_info[\"column_name\"]\n",
    "                requirements_type = column_info[\"data_type\"]\n",
    "                \n",
    "                if column_name in df.columns:\n",
    "                    actual_type = str(df[column_name].dtype)\n",
    "                    match = \"✔\" if actual_type == requirements_type else \"X\"\n",
    "                    summary_data.append([table_name, column_name, actual_type, requirements_type, match])\n",
    "                else:\n",
    "                    summary_data.append([table_name, column_name, \"N/A\", requirements_type, \"X (Column not found)\"])\n",
    "\n",
    "    headers = [\"Table Name\", \"Column Name\", \"Actual Type\", \"Requirements Type\", \"Match\"]\n",
    "\n",
    "    mismatch_data = [row for row in summary_data if \"X\" in row[4]]\n",
    "    \n",
    "    if mismatch_data:\n",
    "        print(\"\\nSummary of Mismatches Data Types:\")\n",
    "        print(tabulate(mismatch_data, headers = headers, tablefmt = \"grid\"))\n",
    "    \n",
    "    else:\n",
    "        print(\"All Data Types Match\")"
   ]
  },
  {
   "cell_type": "code",
   "execution_count": 118,
   "id": "94135fb0",
   "metadata": {},
   "outputs": [
    {
     "name": "stdout",
     "output_type": "stream",
     "text": [
      "=> STEP 4: Check Data Types\n",
      "\n",
      "Summary of Mismatches Data Types:\n",
      "+--------------+---------------+---------------+---------------------+----------------------+\n",
      "| Table Name   | Column Name   | Actual Type   | Requirements Type   | Match                |\n",
      "+==============+===============+===============+=====================+======================+\n",
      "| customer     | create_date   | object        | datetime64[ns]      | X                    |\n",
      "+--------------+---------------+---------------+---------------------+----------------------+\n",
      "| city         | country_id    | N/A           | int64               | X (Column not found) |\n",
      "+--------------+---------------+---------------+---------------------+----------------------+\n",
      "| city         | last_update   | N/A           | datetime64[ns]      | X (Column not found) |\n",
      "+--------------+---------------+---------------+---------------------+----------------------+\n",
      "| country      | country_id    | N/A           | int64               | X (Column not found) |\n",
      "+--------------+---------------+---------------+---------------------+----------------------+\n",
      "| country      | last_update   | object        | datetime64[ns]      | X                    |\n",
      "+--------------+---------------+---------------+---------------------+----------------------+\n"
     ]
    }
   ],
   "source": [
    "check_data_types(actual_table = table_dict, requirements_table = requirements_table)"
   ]
  },
  {
   "cell_type": "code",
   "execution_count": 119,
   "id": "164467b5",
   "metadata": {},
   "outputs": [],
   "source": [
    "def check_missing_values(actual_table):\n",
    "    missing = []\n",
    "    print('=> STEP 5: Check Missing Values\\n')\n",
    "    print('Missing Value Summary')\n",
    "\n",
    "    for table_name, data in actual_table.items():\n",
    "        if data.isna().sum().sum() != 0:\n",
    "            temp = data.isnull().sum()[data.isnull().any()].reset_index()\n",
    "            temp.columns = ['column_name', 'missing_count']\n",
    "            temp['missing_pct'] = ((temp['missing_count'] / len(data)) * 100).round(2)\n",
    "\n",
    "            for _, row in temp.iterrows():\n",
    "                missing.append([table_name, row['column_name'], row['missing_count'], row['missing_pct']])\n",
    "\n",
    "    if missing:\n",
    "        table_headers = ['Table Name', 'Column Name', 'Missing Value Count', 'Missing Value Percentage']\n",
    "        table = tabulate(missing, headers=table_headers, tablefmt='grid')\n",
    "        print(table)\n",
    "    else:\n",
    "        print(\"No missing values found.\\n\")"
   ]
  },
  {
   "cell_type": "code",
   "execution_count": 120,
   "id": "41abfbd2",
   "metadata": {},
   "outputs": [
    {
     "name": "stdout",
     "output_type": "stream",
     "text": [
      "=> STEP 5: Check Missing Values\n",
      "\n",
      "Missing Value Summary\n",
      "+--------------+---------------+-----------------------+----------------------------+\n",
      "| Table Name   | Column Name   |   Missing Value Count |   Missing Value Percentage |\n",
      "+==============+===============+=======================+============================+\n",
      "| address      | address2      |                     4 |                       0.66 |\n",
      "+--------------+---------------+-----------------------+----------------------------+\n",
      "| rental       | return_date   |                   183 |                       1.14 |\n",
      "+--------------+---------------+-----------------------+----------------------------+\n",
      "| staff        | picture       |                     1 |                      50    |\n",
      "+--------------+---------------+-----------------------+----------------------------+\n",
      "| city         | city          |                    10 |                       1.48 |\n",
      "+--------------+---------------+-----------------------+----------------------------+\n",
      "| city         | country       |                     7 |                       1.03 |\n",
      "+--------------+---------------+-----------------------+----------------------------+\n"
     ]
    }
   ],
   "source": [
    "check_missing_values(actual_table=table_dict)"
   ]
  },
  {
   "cell_type": "code",
   "execution_count": 121,
   "id": "c3809c93",
   "metadata": {},
   "outputs": [
    {
     "name": "stdout",
     "output_type": "stream",
     "text": [
      "=> STEP 6: Check Duplicates Data\n",
      "Duplicate Data Summary:\n",
      "+--------------+------------------------+\n",
      "| Table Name   |   Duplicate Rows Count |\n",
      "+==============+========================+\n",
      "| city         |                    154 |\n",
      "+--------------+------------------------+\n"
     ]
    }
   ],
   "source": [
    "def check_duplicate(actual_table):\n",
    "    print(\"=> STEP 6: Check Duplicates Data\")\n",
    "    duplicate_summary = []\n",
    "\n",
    "    for table_name, data in actual_table.items():\n",
    "        try:\n",
    "            duplicate_rows = data[data.duplicated(keep = False)]\n",
    "            \n",
    "            if not duplicate_rows.empty:\n",
    "                duplicate_summary.append([table_name, len(duplicate_rows)])\n",
    "        except:\n",
    "            pass\n",
    "\n",
    "    if duplicate_summary:\n",
    "        print(\"Duplicate Data Summary:\")\n",
    "        print(tabulate(duplicate_summary, headers=[\"Table Name\", \"Duplicate Rows Count\"], tablefmt=\"grid\"))\n",
    "    else:\n",
    "        print(\"No Duplicate Data Found\")\n",
    "\n",
    "check_duplicate(actual_table=table_dict)"
   ]
  },
  {
   "cell_type": "markdown",
   "id": "9fe1bea5",
   "metadata": {},
   "source": [
    "## Data Transform"
   ]
  },
  {
   "cell_type": "markdown",
   "id": "9a504a24",
   "metadata": {},
   "source": [
    "### Data Cleansing"
   ]
  },
  {
   "cell_type": "markdown",
   "id": "18b2c67c",
   "metadata": {},
   "source": [
    "- missmatch column table:\n",
    "    1. city\n",
    "    2. country\n",
    "\n",
    "- missmatch data type:\n",
    "    1. customer => create_date\n",
    "    2. city => country_id\n",
    "    3. city => last_update\n",
    "    4. country => country_id\n",
    "    5. country => last_update\n",
    "\n",
    "- missing values:\n",
    "    1. address => address2 : 4\n",
    "    2. rental => return_date : 183\n",
    "    3. staff => picture : 1\n",
    "    4. city => city : 10\n",
    "    5. city => country : 7\n",
    "\n",
    "- duplicate data:\n",
    "    1. city => 154"
   ]
  },
  {
   "cell_type": "code",
   "execution_count": 122,
   "id": "2e0c47cc",
   "metadata": {},
   "outputs": [],
   "source": [
    "temp_dict = table_dict.copy()"
   ]
  },
  {
   "cell_type": "code",
   "execution_count": 123,
   "id": "320010b6",
   "metadata": {},
   "outputs": [
    {
     "data": {
      "text/html": [
       "<div>\n",
       "<style scoped>\n",
       "    .dataframe tbody tr th:only-of-type {\n",
       "        vertical-align: middle;\n",
       "    }\n",
       "\n",
       "    .dataframe tbody tr th {\n",
       "        vertical-align: top;\n",
       "    }\n",
       "\n",
       "    .dataframe thead th {\n",
       "        text-align: right;\n",
       "    }\n",
       "</style>\n",
       "<table border=\"1\" class=\"dataframe\">\n",
       "  <thead>\n",
       "    <tr style=\"text-align: right;\">\n",
       "      <th></th>\n",
       "      <th>actor_id</th>\n",
       "      <th>first_name</th>\n",
       "      <th>last_name</th>\n",
       "      <th>last_update</th>\n",
       "    </tr>\n",
       "  </thead>\n",
       "  <tbody>\n",
       "    <tr>\n",
       "      <th>0</th>\n",
       "      <td>1</td>\n",
       "      <td>Penelope</td>\n",
       "      <td>Guiness</td>\n",
       "      <td>2013-05-26 14:47:57.620</td>\n",
       "    </tr>\n",
       "    <tr>\n",
       "      <th>1</th>\n",
       "      <td>2</td>\n",
       "      <td>Nick</td>\n",
       "      <td>Wahlberg</td>\n",
       "      <td>2013-05-26 14:47:57.620</td>\n",
       "    </tr>\n",
       "    <tr>\n",
       "      <th>2</th>\n",
       "      <td>3</td>\n",
       "      <td>Ed</td>\n",
       "      <td>Chase</td>\n",
       "      <td>2013-05-26 14:47:57.620</td>\n",
       "    </tr>\n",
       "    <tr>\n",
       "      <th>3</th>\n",
       "      <td>4</td>\n",
       "      <td>Jennifer</td>\n",
       "      <td>Davis</td>\n",
       "      <td>2013-05-26 14:47:57.620</td>\n",
       "    </tr>\n",
       "    <tr>\n",
       "      <th>4</th>\n",
       "      <td>5</td>\n",
       "      <td>Johnny</td>\n",
       "      <td>Lollobrigida</td>\n",
       "      <td>2013-05-26 14:47:57.620</td>\n",
       "    </tr>\n",
       "    <tr>\n",
       "      <th>...</th>\n",
       "      <td>...</td>\n",
       "      <td>...</td>\n",
       "      <td>...</td>\n",
       "      <td>...</td>\n",
       "    </tr>\n",
       "    <tr>\n",
       "      <th>195</th>\n",
       "      <td>196</td>\n",
       "      <td>Bela</td>\n",
       "      <td>Walken</td>\n",
       "      <td>2013-05-26 14:47:57.620</td>\n",
       "    </tr>\n",
       "    <tr>\n",
       "      <th>196</th>\n",
       "      <td>197</td>\n",
       "      <td>Reese</td>\n",
       "      <td>West</td>\n",
       "      <td>2013-05-26 14:47:57.620</td>\n",
       "    </tr>\n",
       "    <tr>\n",
       "      <th>197</th>\n",
       "      <td>198</td>\n",
       "      <td>Mary</td>\n",
       "      <td>Keitel</td>\n",
       "      <td>2013-05-26 14:47:57.620</td>\n",
       "    </tr>\n",
       "    <tr>\n",
       "      <th>198</th>\n",
       "      <td>199</td>\n",
       "      <td>Julia</td>\n",
       "      <td>Fawcett</td>\n",
       "      <td>2013-05-26 14:47:57.620</td>\n",
       "    </tr>\n",
       "    <tr>\n",
       "      <th>199</th>\n",
       "      <td>200</td>\n",
       "      <td>Thora</td>\n",
       "      <td>Temple</td>\n",
       "      <td>2013-05-26 14:47:57.620</td>\n",
       "    </tr>\n",
       "  </tbody>\n",
       "</table>\n",
       "<p>200 rows × 4 columns</p>\n",
       "</div>"
      ],
      "text/plain": [
       "     actor_id first_name     last_name             last_update\n",
       "0           1   Penelope       Guiness 2013-05-26 14:47:57.620\n",
       "1           2       Nick      Wahlberg 2013-05-26 14:47:57.620\n",
       "2           3         Ed         Chase 2013-05-26 14:47:57.620\n",
       "3           4   Jennifer         Davis 2013-05-26 14:47:57.620\n",
       "4           5     Johnny  Lollobrigida 2013-05-26 14:47:57.620\n",
       "..        ...        ...           ...                     ...\n",
       "195       196       Bela        Walken 2013-05-26 14:47:57.620\n",
       "196       197      Reese          West 2013-05-26 14:47:57.620\n",
       "197       198       Mary        Keitel 2013-05-26 14:47:57.620\n",
       "198       199      Julia       Fawcett 2013-05-26 14:47:57.620\n",
       "199       200      Thora        Temple 2013-05-26 14:47:57.620\n",
       "\n",
       "[200 rows x 4 columns]"
      ]
     },
     "execution_count": 123,
     "metadata": {},
     "output_type": "execute_result"
    }
   ],
   "source": [
    "table_dict['actor']"
   ]
  },
  {
   "cell_type": "markdown",
   "id": "3fd88313",
   "metadata": {},
   "source": [
    "customer     | create_date   | object        | datetime64[ns]      | X                    |\n",
    "+--------------+---------------+---------------+---------------------+----------------------+\n",
    "| city         | country_id    | N/A           | int64               | X (Column not found) |\n",
    "+--------------+---------------+---------------+---------------------+----------------------+\n",
    "| city         | last_update   | N/A           | datetime64[ns]      | X (Column not found) |\n",
    "+--------------+---------------+---------------+---------------------+----------------------+\n",
    "| country      | country_id    | N/A           | int64               | X (Column not found) |\n",
    "+--------------+---------------+---------------+---------------------+----------------------+\n",
    "| country      | last_update   | object        | datetime64[ns]      | X                    |\n",
    "+--------------+---------------+---------------+---------------------+-------------"
   ]
  },
  {
   "cell_type": "markdown",
   "id": "12d42789",
   "metadata": {},
   "source": [
    "#### Handling missmatch column table"
   ]
  },
  {
   "cell_type": "code",
   "execution_count": 124,
   "id": "9b372095",
   "metadata": {},
   "outputs": [
    {
     "data": {
      "text/html": [
       "<div>\n",
       "<style scoped>\n",
       "    .dataframe tbody tr th:only-of-type {\n",
       "        vertical-align: middle;\n",
       "    }\n",
       "\n",
       "    .dataframe tbody tr th {\n",
       "        vertical-align: top;\n",
       "    }\n",
       "\n",
       "    .dataframe thead th {\n",
       "        text-align: right;\n",
       "    }\n",
       "</style>\n",
       "<table border=\"1\" class=\"dataframe\">\n",
       "  <thead>\n",
       "    <tr style=\"text-align: right;\">\n",
       "      <th></th>\n",
       "      <th>country</th>\n",
       "      <th>last_update</th>\n",
       "    </tr>\n",
       "  </thead>\n",
       "  <tbody>\n",
       "    <tr>\n",
       "      <th>0</th>\n",
       "      <td>Afghanistan</td>\n",
       "      <td>2006-02-15 09:44:00</td>\n",
       "    </tr>\n",
       "    <tr>\n",
       "      <th>1</th>\n",
       "      <td>Algeria</td>\n",
       "      <td>2006-02-15 09:44:00</td>\n",
       "    </tr>\n",
       "    <tr>\n",
       "      <th>2</th>\n",
       "      <td>American Samoa</td>\n",
       "      <td>2006-02-15 09:44:00</td>\n",
       "    </tr>\n",
       "    <tr>\n",
       "      <th>3</th>\n",
       "      <td>Angola</td>\n",
       "      <td>2006-02-15 09:44:00</td>\n",
       "    </tr>\n",
       "    <tr>\n",
       "      <th>4</th>\n",
       "      <td>Anguilla</td>\n",
       "      <td>2006-02-15 09:44:00</td>\n",
       "    </tr>\n",
       "    <tr>\n",
       "      <th>...</th>\n",
       "      <td>...</td>\n",
       "      <td>...</td>\n",
       "    </tr>\n",
       "    <tr>\n",
       "      <th>104</th>\n",
       "      <td>Vietnam</td>\n",
       "      <td>2006-02-15 09:44:00</td>\n",
       "    </tr>\n",
       "    <tr>\n",
       "      <th>105</th>\n",
       "      <td>Virgin Islands, U.S.</td>\n",
       "      <td>2006-02-15 09:44:00</td>\n",
       "    </tr>\n",
       "    <tr>\n",
       "      <th>106</th>\n",
       "      <td>Yemen</td>\n",
       "      <td>2006-02-15 09:44:00</td>\n",
       "    </tr>\n",
       "    <tr>\n",
       "      <th>107</th>\n",
       "      <td>Yugoslavia</td>\n",
       "      <td>2006-02-15 09:44:00</td>\n",
       "    </tr>\n",
       "    <tr>\n",
       "      <th>108</th>\n",
       "      <td>Zambia</td>\n",
       "      <td>2006-02-15 09:44:00</td>\n",
       "    </tr>\n",
       "  </tbody>\n",
       "</table>\n",
       "<p>109 rows × 2 columns</p>\n",
       "</div>"
      ],
      "text/plain": [
       "                  country          last_update\n",
       "0             Afghanistan  2006-02-15 09:44:00\n",
       "1                 Algeria  2006-02-15 09:44:00\n",
       "2          American Samoa  2006-02-15 09:44:00\n",
       "3                  Angola  2006-02-15 09:44:00\n",
       "4                Anguilla  2006-02-15 09:44:00\n",
       "..                    ...                  ...\n",
       "104               Vietnam  2006-02-15 09:44:00\n",
       "105  Virgin Islands, U.S.  2006-02-15 09:44:00\n",
       "106                 Yemen  2006-02-15 09:44:00\n",
       "107            Yugoslavia  2006-02-15 09:44:00\n",
       "108                Zambia  2006-02-15 09:44:00\n",
       "\n",
       "[109 rows x 2 columns]"
      ]
     },
     "execution_count": 124,
     "metadata": {},
     "output_type": "execute_result"
    }
   ],
   "source": [
    "table_dict['country']"
   ]
  },
  {
   "cell_type": "code",
   "execution_count": 125,
   "id": "dafeaea0",
   "metadata": {},
   "outputs": [
    {
     "data": {
      "text/plain": [
       "country        109\n",
       "last_update      1\n",
       "dtype: int64"
      ]
     },
     "execution_count": 125,
     "metadata": {},
     "output_type": "execute_result"
    }
   ],
   "source": [
    "table_dict['country'].nunique()"
   ]
  },
  {
   "cell_type": "markdown",
   "id": "273a9ff1",
   "metadata": {},
   "source": [
    "==> jumlah baris table country = jumlah country"
   ]
  },
  {
   "cell_type": "code",
   "execution_count": 126,
   "id": "6c3b560f",
   "metadata": {},
   "outputs": [
    {
     "data": {
      "text/plain": [
       "109"
      ]
     },
     "execution_count": 126,
     "metadata": {},
     "output_type": "execute_result"
    }
   ],
   "source": [
    "len(table_dict['country'])"
   ]
  },
  {
   "cell_type": "code",
   "execution_count": 127,
   "id": "297446a2",
   "metadata": {},
   "outputs": [],
   "source": [
    "list_id = [i for i in range(len(table_dict['country']))]"
   ]
  },
  {
   "cell_type": "code",
   "execution_count": 128,
   "id": "92494d49",
   "metadata": {},
   "outputs": [
    {
     "data": {
      "text/plain": [
       "[0,\n",
       " 1,\n",
       " 2,\n",
       " 3,\n",
       " 4,\n",
       " 5,\n",
       " 6,\n",
       " 7,\n",
       " 8,\n",
       " 9,\n",
       " 10,\n",
       " 11,\n",
       " 12,\n",
       " 13,\n",
       " 14,\n",
       " 15,\n",
       " 16,\n",
       " 17,\n",
       " 18,\n",
       " 19,\n",
       " 20,\n",
       " 21,\n",
       " 22,\n",
       " 23,\n",
       " 24,\n",
       " 25,\n",
       " 26,\n",
       " 27,\n",
       " 28,\n",
       " 29,\n",
       " 30,\n",
       " 31,\n",
       " 32,\n",
       " 33,\n",
       " 34,\n",
       " 35,\n",
       " 36,\n",
       " 37,\n",
       " 38,\n",
       " 39,\n",
       " 40,\n",
       " 41,\n",
       " 42,\n",
       " 43,\n",
       " 44,\n",
       " 45,\n",
       " 46,\n",
       " 47,\n",
       " 48,\n",
       " 49,\n",
       " 50,\n",
       " 51,\n",
       " 52,\n",
       " 53,\n",
       " 54,\n",
       " 55,\n",
       " 56,\n",
       " 57,\n",
       " 58,\n",
       " 59,\n",
       " 60,\n",
       " 61,\n",
       " 62,\n",
       " 63,\n",
       " 64,\n",
       " 65,\n",
       " 66,\n",
       " 67,\n",
       " 68,\n",
       " 69,\n",
       " 70,\n",
       " 71,\n",
       " 72,\n",
       " 73,\n",
       " 74,\n",
       " 75,\n",
       " 76,\n",
       " 77,\n",
       " 78,\n",
       " 79,\n",
       " 80,\n",
       " 81,\n",
       " 82,\n",
       " 83,\n",
       " 84,\n",
       " 85,\n",
       " 86,\n",
       " 87,\n",
       " 88,\n",
       " 89,\n",
       " 90,\n",
       " 91,\n",
       " 92,\n",
       " 93,\n",
       " 94,\n",
       " 95,\n",
       " 96,\n",
       " 97,\n",
       " 98,\n",
       " 99,\n",
       " 100,\n",
       " 101,\n",
       " 102,\n",
       " 103,\n",
       " 104,\n",
       " 105,\n",
       " 106,\n",
       " 107,\n",
       " 108]"
      ]
     },
     "execution_count": 128,
     "metadata": {},
     "output_type": "execute_result"
    }
   ],
   "source": [
    "list_id"
   ]
  },
  {
   "cell_type": "code",
   "execution_count": 129,
   "id": "f5d17727",
   "metadata": {},
   "outputs": [],
   "source": [
    "table_dict['country']['country_id'] = list_id"
   ]
  },
  {
   "cell_type": "code",
   "execution_count": 130,
   "id": "a12b8a99",
   "metadata": {},
   "outputs": [
    {
     "data": {
      "text/html": [
       "<div>\n",
       "<style scoped>\n",
       "    .dataframe tbody tr th:only-of-type {\n",
       "        vertical-align: middle;\n",
       "    }\n",
       "\n",
       "    .dataframe tbody tr th {\n",
       "        vertical-align: top;\n",
       "    }\n",
       "\n",
       "    .dataframe thead th {\n",
       "        text-align: right;\n",
       "    }\n",
       "</style>\n",
       "<table border=\"1\" class=\"dataframe\">\n",
       "  <thead>\n",
       "    <tr style=\"text-align: right;\">\n",
       "      <th></th>\n",
       "      <th>country</th>\n",
       "      <th>last_update</th>\n",
       "      <th>country_id</th>\n",
       "    </tr>\n",
       "  </thead>\n",
       "  <tbody>\n",
       "    <tr>\n",
       "      <th>0</th>\n",
       "      <td>Afghanistan</td>\n",
       "      <td>2006-02-15 09:44:00</td>\n",
       "      <td>0</td>\n",
       "    </tr>\n",
       "    <tr>\n",
       "      <th>1</th>\n",
       "      <td>Algeria</td>\n",
       "      <td>2006-02-15 09:44:00</td>\n",
       "      <td>1</td>\n",
       "    </tr>\n",
       "    <tr>\n",
       "      <th>2</th>\n",
       "      <td>American Samoa</td>\n",
       "      <td>2006-02-15 09:44:00</td>\n",
       "      <td>2</td>\n",
       "    </tr>\n",
       "    <tr>\n",
       "      <th>3</th>\n",
       "      <td>Angola</td>\n",
       "      <td>2006-02-15 09:44:00</td>\n",
       "      <td>3</td>\n",
       "    </tr>\n",
       "    <tr>\n",
       "      <th>4</th>\n",
       "      <td>Anguilla</td>\n",
       "      <td>2006-02-15 09:44:00</td>\n",
       "      <td>4</td>\n",
       "    </tr>\n",
       "    <tr>\n",
       "      <th>...</th>\n",
       "      <td>...</td>\n",
       "      <td>...</td>\n",
       "      <td>...</td>\n",
       "    </tr>\n",
       "    <tr>\n",
       "      <th>104</th>\n",
       "      <td>Vietnam</td>\n",
       "      <td>2006-02-15 09:44:00</td>\n",
       "      <td>104</td>\n",
       "    </tr>\n",
       "    <tr>\n",
       "      <th>105</th>\n",
       "      <td>Virgin Islands, U.S.</td>\n",
       "      <td>2006-02-15 09:44:00</td>\n",
       "      <td>105</td>\n",
       "    </tr>\n",
       "    <tr>\n",
       "      <th>106</th>\n",
       "      <td>Yemen</td>\n",
       "      <td>2006-02-15 09:44:00</td>\n",
       "      <td>106</td>\n",
       "    </tr>\n",
       "    <tr>\n",
       "      <th>107</th>\n",
       "      <td>Yugoslavia</td>\n",
       "      <td>2006-02-15 09:44:00</td>\n",
       "      <td>107</td>\n",
       "    </tr>\n",
       "    <tr>\n",
       "      <th>108</th>\n",
       "      <td>Zambia</td>\n",
       "      <td>2006-02-15 09:44:00</td>\n",
       "      <td>108</td>\n",
       "    </tr>\n",
       "  </tbody>\n",
       "</table>\n",
       "<p>109 rows × 3 columns</p>\n",
       "</div>"
      ],
      "text/plain": [
       "                  country          last_update  country_id\n",
       "0             Afghanistan  2006-02-15 09:44:00           0\n",
       "1                 Algeria  2006-02-15 09:44:00           1\n",
       "2          American Samoa  2006-02-15 09:44:00           2\n",
       "3                  Angola  2006-02-15 09:44:00           3\n",
       "4                Anguilla  2006-02-15 09:44:00           4\n",
       "..                    ...                  ...         ...\n",
       "104               Vietnam  2006-02-15 09:44:00         104\n",
       "105  Virgin Islands, U.S.  2006-02-15 09:44:00         105\n",
       "106                 Yemen  2006-02-15 09:44:00         106\n",
       "107            Yugoslavia  2006-02-15 09:44:00         107\n",
       "108                Zambia  2006-02-15 09:44:00         108\n",
       "\n",
       "[109 rows x 3 columns]"
      ]
     },
     "execution_count": 130,
     "metadata": {},
     "output_type": "execute_result"
    }
   ],
   "source": [
    "table_dict['country']"
   ]
  },
  {
   "cell_type": "code",
   "execution_count": 131,
   "id": "3caff320",
   "metadata": {},
   "outputs": [
    {
     "data": {
      "text/plain": [
       "array(['Spain', 'Saudi Arabia', 'United Arab Emirates', 'Mexico',\n",
       "       'Turkey', 'Ethiopia', 'Yemen', 'India', 'Japan', 'United States',\n",
       "       'Bahrain', 'Sudan', 'Italy', 'Argentina', 'Brazil', 'Netherlands',\n",
       "       'Chile', 'Iran', 'Puerto Rico', 'Israel', 'Turkmenistan',\n",
       "       'Paraguay', 'Greece', 'Russian Federation', 'China', 'Azerbaijan',\n",
       "       'Cameroon', 'Brunei', 'Gambia', 'Venezuela', 'Switzerland',\n",
       "       'Algeria', 'Cambodia', 'Philippines', 'Mozambique', 'Angola',\n",
       "       'Morocco', 'Nigeria', 'Egypt', 'Nepal', 'South Africa', 'Romania',\n",
       "       'United Kingdom', 'Slovakia', 'France', 'Colombia', 'Poland',\n",
       "       'Peru', 'Vietnam', 'French Guiana', 'Taiwan',\n",
       "       'Virgin Islands, U.S.', 'South Korea', 'Moldova', 'Indonesia',\n",
       "       'Holy See (Vatican City State)', 'Pakistan', 'Latvia',\n",
       "       'Bangladesh', 'Germany', 'Bolivia', 'French Polynesia', 'Tuvalu',\n",
       "       'Canada', 'Austria', 'New Zealand', 'Malaysia', 'Sri Lanka',\n",
       "       'Kuwait', 'Afghanistan', 'Ukraine',\n",
       "       'Saint Vincent and the Grenadines', 'Kenya', 'Zambia', 'Hong Kong',\n",
       "       'Yugoslavia', 'Dominican Republic', 'Malawi', 'Ecuador',\n",
       "       'Congo, The Democratic Republic of the', 'Madagascar', 'Sweden',\n",
       "       'Oman', 'Belarus', 'Myanmar', 'Iraq', 'Tanzania', 'Thailand',\n",
       "       'Chad', 'Tonga', 'Greenland', 'Czech Republic', 'Finland',\n",
       "       'Kazakstan', 'North Korea', 'Bulgaria', 'Runion', 'Tunisia',\n",
       "       'Anguilla', nan, 'Hungary', 'American Samoa', 'Estonia',\n",
       "       'Faroe Islands', 'Liechtenstein', 'Lithuania', 'Australia',\n",
       "       'Nauru', 'Armenia', 'Senegal'], dtype=object)"
      ]
     },
     "execution_count": 131,
     "metadata": {},
     "output_type": "execute_result"
    }
   ],
   "source": [
    "table_dict['city']['country'].unique()"
   ]
  },
  {
   "cell_type": "code",
   "execution_count": 132,
   "id": "1354a4c1",
   "metadata": {},
   "outputs": [
    {
     "data": {
      "text/html": [
       "<div>\n",
       "<style scoped>\n",
       "    .dataframe tbody tr th:only-of-type {\n",
       "        vertical-align: middle;\n",
       "    }\n",
       "\n",
       "    .dataframe tbody tr th {\n",
       "        vertical-align: top;\n",
       "    }\n",
       "\n",
       "    .dataframe thead th {\n",
       "        text-align: right;\n",
       "    }\n",
       "</style>\n",
       "<table border=\"1\" class=\"dataframe\">\n",
       "  <thead>\n",
       "    <tr style=\"text-align: right;\">\n",
       "      <th></th>\n",
       "      <th>city_id</th>\n",
       "      <th>city</th>\n",
       "      <th>country</th>\n",
       "    </tr>\n",
       "  </thead>\n",
       "  <tbody>\n",
       "    <tr>\n",
       "      <th>0</th>\n",
       "      <td>1</td>\n",
       "      <td>A Corua (La Corua)</td>\n",
       "      <td>Spain</td>\n",
       "    </tr>\n",
       "    <tr>\n",
       "      <th>1</th>\n",
       "      <td>2</td>\n",
       "      <td>Abha</td>\n",
       "      <td>Saudi Arabia</td>\n",
       "    </tr>\n",
       "    <tr>\n",
       "      <th>2</th>\n",
       "      <td>3</td>\n",
       "      <td>Abu Dhabi</td>\n",
       "      <td>United Arab Emirates</td>\n",
       "    </tr>\n",
       "    <tr>\n",
       "      <th>3</th>\n",
       "      <td>4</td>\n",
       "      <td>Acua</td>\n",
       "      <td>Mexico</td>\n",
       "    </tr>\n",
       "    <tr>\n",
       "      <th>4</th>\n",
       "      <td>5</td>\n",
       "      <td>Adana</td>\n",
       "      <td>Turkey</td>\n",
       "    </tr>\n",
       "    <tr>\n",
       "      <th>...</th>\n",
       "      <td>...</td>\n",
       "      <td>...</td>\n",
       "      <td>...</td>\n",
       "    </tr>\n",
       "    <tr>\n",
       "      <th>672</th>\n",
       "      <td>596</td>\n",
       "      <td>NaN</td>\n",
       "      <td>NaN</td>\n",
       "    </tr>\n",
       "    <tr>\n",
       "      <th>673</th>\n",
       "      <td>597</td>\n",
       "      <td>NaN</td>\n",
       "      <td>NaN</td>\n",
       "    </tr>\n",
       "    <tr>\n",
       "      <th>674</th>\n",
       "      <td>598</td>\n",
       "      <td>NaN</td>\n",
       "      <td>Kazakstan</td>\n",
       "    </tr>\n",
       "    <tr>\n",
       "      <th>675</th>\n",
       "      <td>599</td>\n",
       "      <td>NaN</td>\n",
       "      <td>NaN</td>\n",
       "    </tr>\n",
       "    <tr>\n",
       "      <th>676</th>\n",
       "      <td>600</td>\n",
       "      <td>Ziguinchor</td>\n",
       "      <td>Senegal</td>\n",
       "    </tr>\n",
       "  </tbody>\n",
       "</table>\n",
       "<p>677 rows × 3 columns</p>\n",
       "</div>"
      ],
      "text/plain": [
       "     city_id                city               country\n",
       "0          1  A Corua (La Corua)                 Spain\n",
       "1          2                Abha          Saudi Arabia\n",
       "2          3           Abu Dhabi  United Arab Emirates\n",
       "3          4                Acua                Mexico\n",
       "4          5               Adana                Turkey\n",
       "..       ...                 ...                   ...\n",
       "672      596                 NaN                   NaN\n",
       "673      597                 NaN                   NaN\n",
       "674      598                 NaN             Kazakstan\n",
       "675      599                 NaN                   NaN\n",
       "676      600          Ziguinchor               Senegal\n",
       "\n",
       "[677 rows x 3 columns]"
      ]
     },
     "execution_count": 132,
     "metadata": {},
     "output_type": "execute_result"
    }
   ],
   "source": [
    "table_dict['city']"
   ]
  },
  {
   "cell_type": "code",
   "execution_count": 133,
   "id": "971eab24",
   "metadata": {},
   "outputs": [
    {
     "data": {
      "text/html": [
       "<div>\n",
       "<style scoped>\n",
       "    .dataframe tbody tr th:only-of-type {\n",
       "        vertical-align: middle;\n",
       "    }\n",
       "\n",
       "    .dataframe tbody tr th {\n",
       "        vertical-align: top;\n",
       "    }\n",
       "\n",
       "    .dataframe thead th {\n",
       "        text-align: right;\n",
       "    }\n",
       "</style>\n",
       "<table border=\"1\" class=\"dataframe\">\n",
       "  <thead>\n",
       "    <tr style=\"text-align: right;\">\n",
       "      <th></th>\n",
       "      <th>city_id</th>\n",
       "      <th>country_id</th>\n",
       "      <th>city</th>\n",
       "      <th>last_update</th>\n",
       "      <th>country</th>\n",
       "    </tr>\n",
       "  </thead>\n",
       "  <tbody>\n",
       "    <tr>\n",
       "      <th>0</th>\n",
       "      <td>1</td>\n",
       "      <td>86.0</td>\n",
       "      <td>A Corua (La Corua)</td>\n",
       "      <td>2006-02-15 09:44:00</td>\n",
       "      <td>Spain</td>\n",
       "    </tr>\n",
       "    <tr>\n",
       "      <th>1</th>\n",
       "      <td>2</td>\n",
       "      <td>81.0</td>\n",
       "      <td>Abha</td>\n",
       "      <td>2006-02-15 09:44:00</td>\n",
       "      <td>Saudi Arabia</td>\n",
       "    </tr>\n",
       "    <tr>\n",
       "      <th>2</th>\n",
       "      <td>3</td>\n",
       "      <td>100.0</td>\n",
       "      <td>Abu Dhabi</td>\n",
       "      <td>2006-02-15 09:44:00</td>\n",
       "      <td>United Arab Emirates</td>\n",
       "    </tr>\n",
       "    <tr>\n",
       "      <th>3</th>\n",
       "      <td>4</td>\n",
       "      <td>59.0</td>\n",
       "      <td>Acua</td>\n",
       "      <td>2006-02-15 09:44:00</td>\n",
       "      <td>Mexico</td>\n",
       "    </tr>\n",
       "    <tr>\n",
       "      <th>4</th>\n",
       "      <td>5</td>\n",
       "      <td>96.0</td>\n",
       "      <td>Adana</td>\n",
       "      <td>2006-02-15 09:44:00</td>\n",
       "      <td>Turkey</td>\n",
       "    </tr>\n",
       "  </tbody>\n",
       "</table>\n",
       "</div>"
      ],
      "text/plain": [
       "   city_id  country_id                city          last_update  \\\n",
       "0        1        86.0  A Corua (La Corua)  2006-02-15 09:44:00   \n",
       "1        2        81.0                Abha  2006-02-15 09:44:00   \n",
       "2        3       100.0           Abu Dhabi  2006-02-15 09:44:00   \n",
       "3        4        59.0                Acua  2006-02-15 09:44:00   \n",
       "4        5        96.0               Adana  2006-02-15 09:44:00   \n",
       "\n",
       "                country  \n",
       "0                 Spain  \n",
       "1          Saudi Arabia  \n",
       "2  United Arab Emirates  \n",
       "3                Mexico  \n",
       "4                Turkey  "
      ]
     },
     "execution_count": 133,
     "metadata": {},
     "output_type": "execute_result"
    }
   ],
   "source": [
    "city_df = table_dict['city'].merge(table_dict['country'], on = 'country', how = 'left')\n",
    "\n",
    "city_df = city_df[['city_id', 'country_id', 'city', 'last_update', 'country']]\n",
    "\n",
    "city_df.head()"
   ]
  },
  {
   "cell_type": "code",
   "execution_count": 134,
   "id": "bac3f726",
   "metadata": {},
   "outputs": [
    {
     "data": {
      "text/html": [
       "<div>\n",
       "<style scoped>\n",
       "    .dataframe tbody tr th:only-of-type {\n",
       "        vertical-align: middle;\n",
       "    }\n",
       "\n",
       "    .dataframe tbody tr th {\n",
       "        vertical-align: top;\n",
       "    }\n",
       "\n",
       "    .dataframe thead th {\n",
       "        text-align: right;\n",
       "    }\n",
       "</style>\n",
       "<table border=\"1\" class=\"dataframe\">\n",
       "  <thead>\n",
       "    <tr style=\"text-align: right;\">\n",
       "      <th></th>\n",
       "      <th>country</th>\n",
       "      <th>last_update</th>\n",
       "      <th>country_id</th>\n",
       "    </tr>\n",
       "  </thead>\n",
       "  <tbody>\n",
       "    <tr>\n",
       "      <th>100</th>\n",
       "      <td>United Arab Emirates</td>\n",
       "      <td>2006-02-15 09:44:00</td>\n",
       "      <td>100</td>\n",
       "    </tr>\n",
       "  </tbody>\n",
       "</table>\n",
       "</div>"
      ],
      "text/plain": [
       "                  country          last_update  country_id\n",
       "100  United Arab Emirates  2006-02-15 09:44:00         100"
      ]
     },
     "execution_count": 134,
     "metadata": {},
     "output_type": "execute_result"
    }
   ],
   "source": [
    "table_dict['country'][table_dict['country']['country'] == 'United Arab Emirates']"
   ]
  },
  {
   "cell_type": "code",
   "execution_count": 135,
   "id": "521ab45b",
   "metadata": {},
   "outputs": [],
   "source": [
    "table_dict['city'] = city_df.drop(columns='country')"
   ]
  },
  {
   "cell_type": "code",
   "execution_count": 136,
   "id": "22944836",
   "metadata": {},
   "outputs": [
    {
     "data": {
      "text/html": [
       "<div>\n",
       "<style scoped>\n",
       "    .dataframe tbody tr th:only-of-type {\n",
       "        vertical-align: middle;\n",
       "    }\n",
       "\n",
       "    .dataframe tbody tr th {\n",
       "        vertical-align: top;\n",
       "    }\n",
       "\n",
       "    .dataframe thead th {\n",
       "        text-align: right;\n",
       "    }\n",
       "</style>\n",
       "<table border=\"1\" class=\"dataframe\">\n",
       "  <thead>\n",
       "    <tr style=\"text-align: right;\">\n",
       "      <th></th>\n",
       "      <th>city_id</th>\n",
       "      <th>country_id</th>\n",
       "      <th>city</th>\n",
       "      <th>last_update</th>\n",
       "    </tr>\n",
       "  </thead>\n",
       "  <tbody>\n",
       "    <tr>\n",
       "      <th>0</th>\n",
       "      <td>1</td>\n",
       "      <td>86.0</td>\n",
       "      <td>A Corua (La Corua)</td>\n",
       "      <td>2006-02-15 09:44:00</td>\n",
       "    </tr>\n",
       "    <tr>\n",
       "      <th>1</th>\n",
       "      <td>2</td>\n",
       "      <td>81.0</td>\n",
       "      <td>Abha</td>\n",
       "      <td>2006-02-15 09:44:00</td>\n",
       "    </tr>\n",
       "    <tr>\n",
       "      <th>2</th>\n",
       "      <td>3</td>\n",
       "      <td>100.0</td>\n",
       "      <td>Abu Dhabi</td>\n",
       "      <td>2006-02-15 09:44:00</td>\n",
       "    </tr>\n",
       "    <tr>\n",
       "      <th>3</th>\n",
       "      <td>4</td>\n",
       "      <td>59.0</td>\n",
       "      <td>Acua</td>\n",
       "      <td>2006-02-15 09:44:00</td>\n",
       "    </tr>\n",
       "    <tr>\n",
       "      <th>4</th>\n",
       "      <td>5</td>\n",
       "      <td>96.0</td>\n",
       "      <td>Adana</td>\n",
       "      <td>2006-02-15 09:44:00</td>\n",
       "    </tr>\n",
       "  </tbody>\n",
       "</table>\n",
       "</div>"
      ],
      "text/plain": [
       "   city_id  country_id                city          last_update\n",
       "0        1        86.0  A Corua (La Corua)  2006-02-15 09:44:00\n",
       "1        2        81.0                Abha  2006-02-15 09:44:00\n",
       "2        3       100.0           Abu Dhabi  2006-02-15 09:44:00\n",
       "3        4        59.0                Acua  2006-02-15 09:44:00\n",
       "4        5        96.0               Adana  2006-02-15 09:44:00"
      ]
     },
     "execution_count": 136,
     "metadata": {},
     "output_type": "execute_result"
    }
   ],
   "source": [
    "table_dict['city'].head()"
   ]
  },
  {
   "cell_type": "code",
   "execution_count": 137,
   "id": "6444667b",
   "metadata": {},
   "outputs": [
    {
     "name": "stdout",
     "output_type": "stream",
     "text": [
      "=> STEP 3: Check Columns\n",
      "Table: actor\n",
      "+---------------+-------------------+-------------------------+\n",
      "| column_name   | in_actual_table   | in_requirements_table   |\n",
      "+===============+===================+=========================+\n",
      "| actor_id      | v                 | v                       |\n",
      "+---------------+-------------------+-------------------------+\n",
      "| first_name    | v                 | v                       |\n",
      "+---------------+-------------------+-------------------------+\n",
      "| last_name     | v                 | v                       |\n",
      "+---------------+-------------------+-------------------------+\n",
      "| last_update   | v                 | v                       |\n",
      "+---------------+-------------------+-------------------------+\n",
      "\n",
      "Table: store\n",
      "+------------------+-------------------+-------------------------+\n",
      "| column_name      | in_actual_table   | in_requirements_table   |\n",
      "+==================+===================+=========================+\n",
      "| store_id         | v                 | v                       |\n",
      "+------------------+-------------------+-------------------------+\n",
      "| manager_staff_id | v                 | v                       |\n",
      "+------------------+-------------------+-------------------------+\n",
      "| address_id       | v                 | v                       |\n",
      "+------------------+-------------------+-------------------------+\n",
      "| last_update      | v                 | v                       |\n",
      "+------------------+-------------------+-------------------------+\n",
      "\n",
      "Table: address\n",
      "+---------------+-------------------+-------------------------+\n",
      "| column_name   | in_actual_table   | in_requirements_table   |\n",
      "+===============+===================+=========================+\n",
      "| address_id    | v                 | v                       |\n",
      "+---------------+-------------------+-------------------------+\n",
      "| address       | v                 | v                       |\n",
      "+---------------+-------------------+-------------------------+\n",
      "| address2      | v                 | v                       |\n",
      "+---------------+-------------------+-------------------------+\n",
      "| district      | v                 | v                       |\n",
      "+---------------+-------------------+-------------------------+\n",
      "| city_id       | v                 | v                       |\n",
      "+---------------+-------------------+-------------------------+\n",
      "| postal_code   | v                 | v                       |\n",
      "+---------------+-------------------+-------------------------+\n",
      "| phone         | v                 | v                       |\n",
      "+---------------+-------------------+-------------------------+\n",
      "| last_update   | v                 | v                       |\n",
      "+---------------+-------------------+-------------------------+\n",
      "\n",
      "Table: category\n",
      "+---------------+-------------------+-------------------------+\n",
      "| column_name   | in_actual_table   | in_requirements_table   |\n",
      "+===============+===================+=========================+\n",
      "| category_id   | v                 | v                       |\n",
      "+---------------+-------------------+-------------------------+\n",
      "| name          | v                 | v                       |\n",
      "+---------------+-------------------+-------------------------+\n",
      "| last_update   | v                 | v                       |\n",
      "+---------------+-------------------+-------------------------+\n",
      "\n",
      "Table: city\n",
      "+---------------+-------------------+-------------------------+\n",
      "| column_name   | in_actual_table   | in_requirements_table   |\n",
      "+===============+===================+=========================+\n",
      "| city_id       | v                 | v                       |\n",
      "+---------------+-------------------+-------------------------+\n",
      "| country_id    | v                 | v                       |\n",
      "+---------------+-------------------+-------------------------+\n",
      "| city          | v                 | v                       |\n",
      "+---------------+-------------------+-------------------------+\n",
      "| last_update   | v                 | v                       |\n",
      "+---------------+-------------------+-------------------------+\n",
      "\n",
      "Table: country\n",
      "+---------------+-------------------+-------------------------+\n",
      "| column_name   | in_actual_table   | in_requirements_table   |\n",
      "+===============+===================+=========================+\n",
      "| country       | v                 | v                       |\n",
      "+---------------+-------------------+-------------------------+\n",
      "| last_update   | v                 | v                       |\n",
      "+---------------+-------------------+-------------------------+\n",
      "| country_id    | v                 | v                       |\n",
      "+---------------+-------------------+-------------------------+\n",
      "\n",
      "Table: customer\n",
      "+---------------+-------------------+-------------------------+\n",
      "| column_name   | in_actual_table   | in_requirements_table   |\n",
      "+===============+===================+=========================+\n",
      "| customer_id   | v                 | v                       |\n",
      "+---------------+-------------------+-------------------------+\n",
      "| store_id      | v                 | v                       |\n",
      "+---------------+-------------------+-------------------------+\n",
      "| first_name    | v                 | v                       |\n",
      "+---------------+-------------------+-------------------------+\n",
      "| last_name     | v                 | v                       |\n",
      "+---------------+-------------------+-------------------------+\n",
      "| email         | v                 | v                       |\n",
      "+---------------+-------------------+-------------------------+\n",
      "| address_id    | v                 | v                       |\n",
      "+---------------+-------------------+-------------------------+\n",
      "| activebool    | v                 | v                       |\n",
      "+---------------+-------------------+-------------------------+\n",
      "| create_date   | v                 | v                       |\n",
      "+---------------+-------------------+-------------------------+\n",
      "| last_update   | v                 | v                       |\n",
      "+---------------+-------------------+-------------------------+\n",
      "| active        | v                 | v                       |\n",
      "+---------------+-------------------+-------------------------+\n",
      "\n",
      "Table: film_actor\n",
      "+---------------+-------------------+-------------------------+\n",
      "| column_name   | in_actual_table   | in_requirements_table   |\n",
      "+===============+===================+=========================+\n",
      "| actor_id      | v                 | v                       |\n",
      "+---------------+-------------------+-------------------------+\n",
      "| film_id       | v                 | v                       |\n",
      "+---------------+-------------------+-------------------------+\n",
      "| last_update   | v                 | v                       |\n",
      "+---------------+-------------------+-------------------------+\n",
      "\n",
      "Table: film_category\n",
      "+---------------+-------------------+-------------------------+\n",
      "| column_name   | in_actual_table   | in_requirements_table   |\n",
      "+===============+===================+=========================+\n",
      "| film_id       | v                 | v                       |\n",
      "+---------------+-------------------+-------------------------+\n",
      "| category_id   | v                 | v                       |\n",
      "+---------------+-------------------+-------------------------+\n",
      "| last_update   | v                 | v                       |\n",
      "+---------------+-------------------+-------------------------+\n",
      "\n",
      "Table: inventory\n",
      "+---------------+-------------------+-------------------------+\n",
      "| column_name   | in_actual_table   | in_requirements_table   |\n",
      "+===============+===================+=========================+\n",
      "| inventory_id  | v                 | v                       |\n",
      "+---------------+-------------------+-------------------------+\n",
      "| film_id       | v                 | v                       |\n",
      "+---------------+-------------------+-------------------------+\n",
      "| store_id      | v                 | v                       |\n",
      "+---------------+-------------------+-------------------------+\n",
      "| last_update   | v                 | v                       |\n",
      "+---------------+-------------------+-------------------------+\n",
      "\n",
      "Table: language\n",
      "+---------------+-------------------+-------------------------+\n",
      "| column_name   | in_actual_table   | in_requirements_table   |\n",
      "+===============+===================+=========================+\n",
      "| language_id   | v                 | v                       |\n",
      "+---------------+-------------------+-------------------------+\n",
      "| name          | v                 | v                       |\n",
      "+---------------+-------------------+-------------------------+\n",
      "| last_update   | v                 | v                       |\n",
      "+---------------+-------------------+-------------------------+\n",
      "\n",
      "Table: rental\n",
      "+---------------+-------------------+-------------------------+\n",
      "| column_name   | in_actual_table   | in_requirements_table   |\n",
      "+===============+===================+=========================+\n",
      "| rental_id     | v                 | v                       |\n",
      "+---------------+-------------------+-------------------------+\n",
      "| rental_date   | v                 | v                       |\n",
      "+---------------+-------------------+-------------------------+\n",
      "| inventory_id  | v                 | v                       |\n",
      "+---------------+-------------------+-------------------------+\n",
      "| customer_id   | v                 | v                       |\n",
      "+---------------+-------------------+-------------------------+\n",
      "| return_date   | v                 | v                       |\n",
      "+---------------+-------------------+-------------------------+\n",
      "| staff_id      | v                 | v                       |\n",
      "+---------------+-------------------+-------------------------+\n",
      "| last_update   | v                 | v                       |\n",
      "+---------------+-------------------+-------------------------+\n",
      "\n",
      "Table: staff\n",
      "+---------------+-------------------+-------------------------+\n",
      "| column_name   | in_actual_table   | in_requirements_table   |\n",
      "+===============+===================+=========================+\n",
      "| staff_id      | v                 | v                       |\n",
      "+---------------+-------------------+-------------------------+\n",
      "| first_name    | v                 | v                       |\n",
      "+---------------+-------------------+-------------------------+\n",
      "| last_name     | v                 | v                       |\n",
      "+---------------+-------------------+-------------------------+\n",
      "| address_id    | v                 | v                       |\n",
      "+---------------+-------------------+-------------------------+\n",
      "| email         | v                 | v                       |\n",
      "+---------------+-------------------+-------------------------+\n",
      "| store_id      | v                 | v                       |\n",
      "+---------------+-------------------+-------------------------+\n",
      "| active        | v                 | v                       |\n",
      "+---------------+-------------------+-------------------------+\n",
      "| username      | v                 | v                       |\n",
      "+---------------+-------------------+-------------------------+\n",
      "| password      | v                 | v                       |\n",
      "+---------------+-------------------+-------------------------+\n",
      "| last_update   | v                 | v                       |\n",
      "+---------------+-------------------+-------------------------+\n",
      "| picture       | v                 | v                       |\n",
      "+---------------+-------------------+-------------------------+\n",
      "\n",
      "Table: payment\n",
      "+---------------+-------------------+-------------------------+\n",
      "| column_name   | in_actual_table   | in_requirements_table   |\n",
      "+===============+===================+=========================+\n",
      "| payment_id    | v                 | v                       |\n",
      "+---------------+-------------------+-------------------------+\n",
      "| customer_id   | v                 | v                       |\n",
      "+---------------+-------------------+-------------------------+\n",
      "| staff_id      | v                 | v                       |\n",
      "+---------------+-------------------+-------------------------+\n",
      "| rental_id     | v                 | v                       |\n",
      "+---------------+-------------------+-------------------------+\n",
      "| amount        | v                 | v                       |\n",
      "+---------------+-------------------+-------------------------+\n",
      "| payment_date  | v                 | v                       |\n",
      "+---------------+-------------------+-------------------------+\n",
      "\n",
      "Table: film\n",
      "+------------------+-------------------+-------------------------+\n",
      "| column_name      | in_actual_table   | in_requirements_table   |\n",
      "+==================+===================+=========================+\n",
      "| film_id          | v                 | v                       |\n",
      "+------------------+-------------------+-------------------------+\n",
      "| title            | v                 | v                       |\n",
      "+------------------+-------------------+-------------------------+\n",
      "| description      | v                 | v                       |\n",
      "+------------------+-------------------+-------------------------+\n",
      "| release_year     | v                 | v                       |\n",
      "+------------------+-------------------+-------------------------+\n",
      "| language_id      | v                 | v                       |\n",
      "+------------------+-------------------+-------------------------+\n",
      "| rental_duration  | v                 | v                       |\n",
      "+------------------+-------------------+-------------------------+\n",
      "| rental_rate      | v                 | v                       |\n",
      "+------------------+-------------------+-------------------------+\n",
      "| length           | v                 | v                       |\n",
      "+------------------+-------------------+-------------------------+\n",
      "| replacement_cost | v                 | v                       |\n",
      "+------------------+-------------------+-------------------------+\n",
      "| rating           | v                 | v                       |\n",
      "+------------------+-------------------+-------------------------+\n",
      "| last_update      | v                 | v                       |\n",
      "+------------------+-------------------+-------------------------+\n",
      "| special_features | v                 | v                       |\n",
      "+------------------+-------------------+-------------------------+\n",
      "| fulltext         | v                 | v                       |\n",
      "+------------------+-------------------+-------------------------+\n",
      "\n"
     ]
    }
   ],
   "source": [
    "check_columns(actual_table=table_dict, req_table=requirements_table)"
   ]
  },
  {
   "cell_type": "markdown",
   "id": "0b0a830e",
   "metadata": {},
   "source": [
    "#### Handling missmatch data type"
   ]
  },
  {
   "cell_type": "code",
   "execution_count": 138,
   "id": "38a6ddce",
   "metadata": {},
   "outputs": [],
   "source": [
    "temp_dict_2 = table_dict.copy()"
   ]
  },
  {
   "cell_type": "code",
   "execution_count": 144,
   "id": "ad8016dd",
   "metadata": {},
   "outputs": [
    {
     "name": "stdout",
     "output_type": "stream",
     "text": [
      "=> STEP 4: Check Data Types\n",
      "\n",
      "Summary of Mismatches Data Types:\n",
      "+--------------+---------------+---------------+---------------------+---------+\n",
      "| Table Name   | Column Name   | Actual Type   | Requirements Type   | Match   |\n",
      "+==============+===============+===============+=====================+=========+\n",
      "| city         | country_id    | float64       | int64               | X       |\n",
      "+--------------+---------------+---------------+---------------------+---------+\n",
      "| city         | last_update   | object        | datetime64[ns]      | X       |\n",
      "+--------------+---------------+---------------+---------------------+---------+\n"
     ]
    }
   ],
   "source": [
    "check_data_types(actual_table=table_dict, requirements_table=requirements_table)"
   ]
  },
  {
   "cell_type": "code",
   "execution_count": 145,
   "id": "f303a456",
   "metadata": {},
   "outputs": [
    {
     "data": {
      "text/plain": [
       "dtype('<M8[ns]')"
      ]
     },
     "execution_count": 145,
     "metadata": {},
     "output_type": "execute_result"
    }
   ],
   "source": [
    "table_dict['customer']['create_date'].dtype"
   ]
  },
  {
   "cell_type": "code",
   "execution_count": 140,
   "id": "278d9101",
   "metadata": {},
   "outputs": [],
   "source": [
    "table_dict['customer']['create_date'] = pd.to_datetime(table_dict['customer']['create_date'])\n",
    "table_dict['country']['last_update'] = pd.to_datetime(table_dict['customer']['create_date'])"
   ]
  },
  {
   "cell_type": "code",
   "execution_count": 141,
   "id": "f28c0134",
   "metadata": {},
   "outputs": [
    {
     "name": "stdout",
     "output_type": "stream",
     "text": [
      "datetime64[ns]\n",
      "datetime64[ns]\n"
     ]
    }
   ],
   "source": [
    "print(str(table_dict['customer']['create_date'].dtype))\n",
    "print(str(table_dict['country']['last_update'].dtype))"
   ]
  },
  {
   "cell_type": "code",
   "execution_count": 142,
   "id": "f89a68ad",
   "metadata": {},
   "outputs": [
    {
     "name": "stdout",
     "output_type": "stream",
     "text": [
      "=> STEP 4: Check Data Types\n",
      "\n",
      "Summary of Mismatches Data Types:\n",
      "+--------------+---------------+---------------+---------------------+---------+\n",
      "| Table Name   | Column Name   | Actual Type   | Requirements Type   | Match   |\n",
      "+==============+===============+===============+=====================+=========+\n",
      "| city         | country_id    | float64       | int64               | X       |\n",
      "+--------------+---------------+---------------+---------------------+---------+\n",
      "| city         | last_update   | object        | datetime64[ns]      | X       |\n",
      "+--------------+---------------+---------------+---------------------+---------+\n"
     ]
    }
   ],
   "source": [
    "check_data_types(actual_table=table_dict, requirements_table=requirements_table)"
   ]
  },
  {
   "cell_type": "code",
   "execution_count": 148,
   "id": "4571e68a",
   "metadata": {},
   "outputs": [
    {
     "data": {
      "text/plain": [
       "dtype('float64')"
      ]
     },
     "execution_count": 148,
     "metadata": {},
     "output_type": "execute_result"
    }
   ],
   "source": [
    "table_dict['city']['country_id'].dtype"
   ]
  },
  {
   "cell_type": "code",
   "execution_count": 149,
   "id": "720692a1",
   "metadata": {},
   "outputs": [],
   "source": [
    "table_dict['city']['country_id'] = table_dict['city']['country_id'].astype('Int64')\n",
    "table_dict['city']['last_update'] = pd.to_datetime(table_dict['city']['last_update'])"
   ]
  },
  {
   "cell_type": "code",
   "execution_count": 150,
   "id": "98dadcdd",
   "metadata": {},
   "outputs": [
    {
     "name": "stdout",
     "output_type": "stream",
     "text": [
      "=> STEP 4: Check Data Types\n",
      "\n",
      "Summary of Mismatches Data Types:\n",
      "+--------------+---------------+---------------+---------------------+---------+\n",
      "| Table Name   | Column Name   | Actual Type   | Requirements Type   | Match   |\n",
      "+==============+===============+===============+=====================+=========+\n",
      "| city         | country_id    | Int64         | int64               | X       |\n",
      "+--------------+---------------+---------------+---------------------+---------+\n"
     ]
    }
   ],
   "source": [
    "check_data_types(actual_table=table_dict, requirements_table=requirements_table)"
   ]
  },
  {
   "cell_type": "markdown",
   "id": "6147dc07",
   "metadata": {},
   "source": [
    "I choose Int64 instead of int64 becouse there are null in country_id actual data"
   ]
  },
  {
   "cell_type": "markdown",
   "id": "9d5723c8",
   "metadata": {},
   "source": [
    "#### Handling Missing Values"
   ]
  },
  {
   "cell_type": "code",
   "execution_count": 151,
   "id": "4ef14dfe",
   "metadata": {},
   "outputs": [],
   "source": [
    "temp_dict_3 = table_dict.copy()"
   ]
  },
  {
   "cell_type": "code",
   "execution_count": 163,
   "id": "4ba005ca",
   "metadata": {},
   "outputs": [
    {
     "name": "stdout",
     "output_type": "stream",
     "text": [
      "=> STEP 5: Check Missing Values\n",
      "\n",
      "Missing Value Summary\n",
      "+--------------+---------------+-----------------------+----------------------------+\n",
      "| Table Name   | Column Name   |   Missing Value Count |   Missing Value Percentage |\n",
      "+==============+===============+=======================+============================+\n",
      "| address      | address2      |                     4 |                       0.66 |\n",
      "+--------------+---------------+-----------------------+----------------------------+\n",
      "| rental       | return_date   |                   183 |                       1.14 |\n",
      "+--------------+---------------+-----------------------+----------------------------+\n",
      "| staff        | picture       |                     1 |                      50    |\n",
      "+--------------+---------------+-----------------------+----------------------------+\n",
      "| city         | country_id    |                     7 |                       1.03 |\n",
      "+--------------+---------------+-----------------------+----------------------------+\n",
      "| city         | city          |                    10 |                       1.48 |\n",
      "+--------------+---------------+-----------------------+----------------------------+\n",
      "| city         | last_update   |                     7 |                       1.03 |\n",
      "+--------------+---------------+-----------------------+----------------------------+\n"
     ]
    }
   ],
   "source": [
    "check_missing_values(actual_table=table_dict)"
   ]
  },
  {
   "cell_type": "markdown",
   "id": "52f476ac",
   "metadata": {},
   "source": [
    "dari segi domain knowledge, belum bisa ditentukan missing value diganti dengan apa. karena missing value tidak ada yang melebihi 1.5% (kecuali picture yang memang hanya 2 row data saja), tabel yang memiliki missing values, akan dihapus row nya."
   ]
  },
  {
   "cell_type": "code",
   "execution_count": 164,
   "id": "9894cdf1",
   "metadata": {},
   "outputs": [],
   "source": [
    "def remove_missing_values(actual_table):\n",
    "    final_actual_data = {}\n",
    "    for table, data in actual_table.items():\n",
    "        cleaned_data = data.dropna()\n",
    "        final_actual_data[table] = cleaned_data.copy()\n",
    "    \n",
    "    return final_actual_data"
   ]
  },
  {
   "cell_type": "code",
   "execution_count": 165,
   "id": "0d5df34c",
   "metadata": {},
   "outputs": [],
   "source": [
    "table_dict = remove_missing_values(actual_table=table_dict)"
   ]
  },
  {
   "cell_type": "code",
   "execution_count": 166,
   "id": "c4e1ed43",
   "metadata": {},
   "outputs": [
    {
     "name": "stdout",
     "output_type": "stream",
     "text": [
      "=> STEP 5: Check Missing Values\n",
      "\n",
      "Missing Value Summary\n",
      "No missing values found.\n",
      "\n"
     ]
    }
   ],
   "source": [
    "check_missing_values(table_dict)"
   ]
  },
  {
   "cell_type": "code",
   "execution_count": 169,
   "id": "6b21ae5f",
   "metadata": {},
   "outputs": [
    {
     "name": "stdout",
     "output_type": "stream",
     "text": [
      "=> STEP 4: Check Data Types\n",
      "\n",
      "Summary of Mismatches Data Types:\n",
      "+--------------+---------------+---------------+---------------------+---------+\n",
      "| Table Name   | Column Name   | Actual Type   | Requirements Type   | Match   |\n",
      "+==============+===============+===============+=====================+=========+\n",
      "| city         | country_id    | Int64         | int64               | X       |\n",
      "+--------------+---------------+---------------+---------------------+---------+\n"
     ]
    }
   ],
   "source": [
    "check_data_types(actual_table=table_dict, requirements_table=requirements_table)"
   ]
  },
  {
   "cell_type": "code",
   "execution_count": null,
   "id": "c5901073",
   "metadata": {},
   "outputs": [],
   "source": [
    "table_dict['city']['country_id'] = table_dict['city']['country_id'].astype('int64') # udah gaada NaN"
   ]
  },
  {
   "cell_type": "code",
   "execution_count": 171,
   "id": "9b5df505",
   "metadata": {},
   "outputs": [
    {
     "name": "stdout",
     "output_type": "stream",
     "text": [
      "=> STEP 4: Check Data Types\n",
      "All Data Types Match\n"
     ]
    }
   ],
   "source": [
    "check_data_types(actual_table=table_dict, requirements_table=requirements_table)"
   ]
  },
  {
   "cell_type": "markdown",
   "id": "b0a57f14",
   "metadata": {},
   "source": [
    "#### Handling Data Duplicate"
   ]
  },
  {
   "cell_type": "code",
   "execution_count": 172,
   "id": "eac0bfb3",
   "metadata": {},
   "outputs": [],
   "source": [
    "temp_dict_4 = table_dict.copy()"
   ]
  },
  {
   "cell_type": "code",
   "execution_count": 173,
   "id": "5fd25206",
   "metadata": {},
   "outputs": [
    {
     "name": "stdout",
     "output_type": "stream",
     "text": [
      "=> STEP 6: Check Duplicates Data\n",
      "Duplicate Data Summary:\n",
      "+--------------+------------------------+\n",
      "| Table Name   |   Duplicate Rows Count |\n",
      "+==============+========================+\n",
      "| city         |                    146 |\n",
      "+--------------+------------------------+\n"
     ]
    }
   ],
   "source": [
    "check_duplicate(actual_table=table_dict)"
   ]
  },
  {
   "cell_type": "markdown",
   "id": "96458391",
   "metadata": {},
   "source": [
    "Data duplicate akan dihapus dengan mempertahankan baris pertama"
   ]
  },
  {
   "cell_type": "code",
   "execution_count": 174,
   "id": "9664d129",
   "metadata": {},
   "outputs": [],
   "source": [
    "table_dict['city'] = table_dict['city'].drop_duplicates()"
   ]
  },
  {
   "cell_type": "code",
   "execution_count": 175,
   "id": "c1ad063e",
   "metadata": {},
   "outputs": [
    {
     "name": "stdout",
     "output_type": "stream",
     "text": [
      "=> STEP 6: Check Duplicates Data\n",
      "No Duplicate Data Found\n"
     ]
    }
   ],
   "source": [
    "check_duplicate(actual_table=table_dict)"
   ]
  },
  {
   "cell_type": "markdown",
   "id": "2b1a1bdd",
   "metadata": {},
   "source": [
    "### Data Manipulation"
   ]
  },
  {
   "cell_type": "code",
   "execution_count": 176,
   "id": "3c2b5823",
   "metadata": {},
   "outputs": [],
   "source": [
    "cleaned_data_temp = table_dict.copy()"
   ]
  },
  {
   "cell_type": "code",
   "execution_count": null,
   "id": "fc1b6af6",
   "metadata": {},
   "outputs": [],
   "source": []
  }
 ],
 "metadata": {
  "kernelspec": {
   "display_name": "dvd_rental",
   "language": "python",
   "name": "python3"
  },
  "language_info": {
   "codemirror_mode": {
    "name": "ipython",
    "version": 3
   },
   "file_extension": ".py",
   "mimetype": "text/x-python",
   "name": "python",
   "nbconvert_exporter": "python",
   "pygments_lexer": "ipython3",
   "version": "3.10.7"
  }
 },
 "nbformat": 4,
 "nbformat_minor": 5
}
